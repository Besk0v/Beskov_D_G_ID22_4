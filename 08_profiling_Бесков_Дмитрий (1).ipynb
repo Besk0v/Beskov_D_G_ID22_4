{
  "cells": [
    {
      "cell_type": "markdown",
      "metadata": {
        "id": "UsODQXeukBv3"
      },
      "source": [
        "## Оптимизация выполнения кода, векторизация, Numba"
      ]
    },
    {
      "cell_type": "markdown",
      "metadata": {
        "id": "3-3s2f8mkBv6"
      },
      "source": [
        "## Задачи для совместного разбора"
      ]
    },
    {
      "cell_type": "code",
      "execution_count": null,
      "metadata": {
        "id": "73OGeld9kBv7"
      },
      "outputs": [],
      "source": [
        "import line_profiler\n",
        "import numpy as np\n",
        "from numba import jit\n",
        "import pandas as pd\n",
        "import random"
      ]
    },
    {
      "cell_type": "markdown",
      "metadata": {
        "id": "Wj2rxgYwkBv8"
      },
      "source": [
        "1. Сгенерируйте массив `A` из `N=1млн` случайных целых чисел на отрезке от 0 до 1000. Пусть `B[i] = A[i] + 100`. Посчитайте среднее значение массива `B`."
      ]
    },
    {
      "cell_type": "code",
      "execution_count": null,
      "metadata": {
        "id": "09rAoJU4kBv8",
        "outputId": "77846077-4be9-4595-c57e-04dc787086c3"
      },
      "outputs": [
        {
          "name": "stdout",
          "output_type": "stream",
          "text": [
            "Среднее значение массива B: 600.07043\n"
          ]
        }
      ],
      "source": [
        "import numpy as np\n",
        "\n",
        "N = 1000000  # количество элементов в массиве\n",
        "A = np.random.randint(low=0, high=1001, size=N)  # генерируем массив A\n",
        "B = A + 100  # создаем массив B путем прибавления 100 к каждому элементу A\n",
        "mean_B = np.mean(B)  # вычисляем среднее значение B\n",
        "\n",
        "print(f\"Среднее значение массива B: {mean_B}\")"
      ]
    },
    {
      "cell_type": "markdown",
      "metadata": {
        "id": "GlTaO2sIkBv9"
      },
      "source": [
        "2. Создайте таблицу 2млн строк и с 4 столбцами, заполненными случайными числами. Добавьте столбец `key`, которые содержит элементы из множества английских букв. Выберите из таблицы подмножество строк, для которых в столбце `key` указаны первые 5 английских букв."
      ]
    },
    {
      "cell_type": "code",
      "execution_count": null,
      "metadata": {
        "id": "Be6xovIWkBv9",
        "outputId": "8b550a75-c44a-4bb5-ed5c-0d912f2ca487"
      },
      "outputs": [
        {
          "data": {
            "text/html": [
              "<div>\n",
              "<style scoped>\n",
              "    .dataframe tbody tr th:only-of-type {\n",
              "        vertical-align: middle;\n",
              "    }\n",
              "\n",
              "    .dataframe tbody tr th {\n",
              "        vertical-align: top;\n",
              "    }\n",
              "\n",
              "    .dataframe thead th {\n",
              "        text-align: right;\n",
              "    }\n",
              "</style>\n",
              "<table border=\"1\" class=\"dataframe\">\n",
              "  <thead>\n",
              "    <tr style=\"text-align: right;\">\n",
              "      <th></th>\n",
              "      <th>col1</th>\n",
              "      <th>col2</th>\n",
              "      <th>col3</th>\n",
              "      <th>col4</th>\n",
              "      <th>key</th>\n",
              "    </tr>\n",
              "  </thead>\n",
              "  <tbody>\n",
              "    <tr>\n",
              "      <th>220</th>\n",
              "      <td>0.746907</td>\n",
              "      <td>0.137454</td>\n",
              "      <td>0.694848</td>\n",
              "      <td>0.617933</td>\n",
              "      <td>ccdce</td>\n",
              "    </tr>\n",
              "    <tr>\n",
              "      <th>740</th>\n",
              "      <td>0.619707</td>\n",
              "      <td>0.746347</td>\n",
              "      <td>0.725800</td>\n",
              "      <td>0.808303</td>\n",
              "      <td>bcdca</td>\n",
              "    </tr>\n",
              "    <tr>\n",
              "      <th>4207</th>\n",
              "      <td>0.388938</td>\n",
              "      <td>0.757840</td>\n",
              "      <td>0.071220</td>\n",
              "      <td>0.322288</td>\n",
              "      <td>daeae</td>\n",
              "    </tr>\n",
              "    <tr>\n",
              "      <th>7069</th>\n",
              "      <td>0.200107</td>\n",
              "      <td>0.040534</td>\n",
              "      <td>0.101539</td>\n",
              "      <td>0.933318</td>\n",
              "      <td>ccbde</td>\n",
              "    </tr>\n",
              "    <tr>\n",
              "      <th>17236</th>\n",
              "      <td>0.163946</td>\n",
              "      <td>0.305243</td>\n",
              "      <td>0.419774</td>\n",
              "      <td>0.261557</td>\n",
              "      <td>bdcac</td>\n",
              "    </tr>\n",
              "    <tr>\n",
              "      <th>...</th>\n",
              "      <td>...</td>\n",
              "      <td>...</td>\n",
              "      <td>...</td>\n",
              "      <td>...</td>\n",
              "      <td>...</td>\n",
              "    </tr>\n",
              "    <tr>\n",
              "      <th>1982999</th>\n",
              "      <td>0.988387</td>\n",
              "      <td>0.993828</td>\n",
              "      <td>0.744437</td>\n",
              "      <td>0.536347</td>\n",
              "      <td>ccdae</td>\n",
              "    </tr>\n",
              "    <tr>\n",
              "      <th>1987447</th>\n",
              "      <td>0.339375</td>\n",
              "      <td>0.482659</td>\n",
              "      <td>0.005229</td>\n",
              "      <td>0.467711</td>\n",
              "      <td>abcce</td>\n",
              "    </tr>\n",
              "    <tr>\n",
              "      <th>1992513</th>\n",
              "      <td>0.462057</td>\n",
              "      <td>0.004250</td>\n",
              "      <td>0.563716</td>\n",
              "      <td>0.849436</td>\n",
              "      <td>bdbca</td>\n",
              "    </tr>\n",
              "    <tr>\n",
              "      <th>1994589</th>\n",
              "      <td>0.023088</td>\n",
              "      <td>0.573124</td>\n",
              "      <td>0.219409</td>\n",
              "      <td>0.893734</td>\n",
              "      <td>dcddd</td>\n",
              "    </tr>\n",
              "    <tr>\n",
              "      <th>1995124</th>\n",
              "      <td>0.233692</td>\n",
              "      <td>0.262313</td>\n",
              "      <td>0.498171</td>\n",
              "      <td>0.138611</td>\n",
              "      <td>adaec</td>\n",
              "    </tr>\n",
              "  </tbody>\n",
              "</table>\n",
              "<p>546 rows × 5 columns</p>\n",
              "</div>"
            ],
            "text/plain": [
              "             col1      col2      col3      col4    key\n",
              "220      0.746907  0.137454  0.694848  0.617933  ccdce\n",
              "740      0.619707  0.746347  0.725800  0.808303  bcdca\n",
              "4207     0.388938  0.757840  0.071220  0.322288  daeae\n",
              "7069     0.200107  0.040534  0.101539  0.933318  ccbde\n",
              "17236    0.163946  0.305243  0.419774  0.261557  bdcac\n",
              "...           ...       ...       ...       ...    ...\n",
              "1982999  0.988387  0.993828  0.744437  0.536347  ccdae\n",
              "1987447  0.339375  0.482659  0.005229  0.467711  abcce\n",
              "1992513  0.462057  0.004250  0.563716  0.849436  bdbca\n",
              "1994589  0.023088  0.573124  0.219409  0.893734  dcddd\n",
              "1995124  0.233692  0.262313  0.498171  0.138611  adaec\n",
              "\n",
              "[546 rows x 5 columns]"
            ]
          },
          "execution_count": 2,
          "metadata": {},
          "output_type": "execute_result"
        }
      ],
      "source": [
        "import pandas as pd\n",
        "import random\n",
        "import string\n",
        "\n",
        "df = pd.DataFrame({'col1': [random.random() for _ in range(2000000)],\n",
        "                   'col2': [random.random() for _ in range(2000000)],\n",
        "                   'col3': [random.random() for _ in range(2000000)],\n",
        "                   'col4': [random.random() for _ in range(2000000)]})\n",
        "\n",
        "\n",
        "def random_string(length):\n",
        "    return ''.join(random.choice(string.ascii_lowercase) for _ in range(length))\n",
        "\n",
        "df['key'] = [random_string(5) for _ in range(2000000)]\n",
        "\n",
        "subset = df[df['key'].str.match('[a-e]{5}')]\n",
        "subset"
      ]
    },
    {
      "cell_type": "markdown",
      "metadata": {
        "id": "vD2UJJbckBv-"
      },
      "source": [
        "## Лабораторная работа 3"
      ]
    },
    {
      "cell_type": "code",
      "execution_count": null,
      "metadata": {
        "id": "7JAEZLeIkBv-",
        "outputId": "2813e1bb-b827-4a02-d17e-4feae191d3ee"
      },
      "outputs": [
        {
          "name": "stderr",
          "output_type": "stream",
          "text": [
            "\n",
            "[notice] A new release of pip available: 22.3 -> 23.1.1\n",
            "[notice] To update, run: python.exe -m pip install --upgrade pip\n"
          ]
        },
        {
          "name": "stdout",
          "output_type": "stream",
          "text": [
            "Defaulting to user installation because normal site-packages is not writeable\n",
            "Requirement already satisfied: line_profiler in c:\\users\\asus\\appdata\\roaming\\python\\python39\\site-packages (4.0.3)\n"
          ]
        }
      ],
      "source": [
        "!pip install line_profiler\n",
        "%load_ext line_profiler"
      ]
    },
    {
      "cell_type": "markdown",
      "metadata": {
        "id": "cGeDmFElkBv-"
      },
      "source": [
        "1. В файлах `recipes_sample.csv` и `reviews_sample.csv` (__ЛР 2__) находится информация об рецептах блюд и отзывах на эти рецепты соответственно. Загрузите данные из файлов в виде `pd.DataFrame` с названиями `recipes` и `reviews`. Обратите внимание на корректное считывание столбца(ов) с индексами. Приведите столбцы к нужным типам.\n",
        "\n",
        "Реализуйте несколько вариантов функции подсчета среднего значения столбца `rating` из таблицы `reviews` для отзывов, оставленных в 2010 году.\n",
        "\n",
        "A. С использованием метода `DataFrame.iterrows` исходной таблицы;\n",
        "\n",
        "Б. С использованием метода `DataFrame.iterrows` таблицы, в которой сохранены только отзывы за 2010 год;\n",
        "\n",
        "В. С использованием метода `Series.mean`.\n",
        "\n",
        "Проверьте, что результаты работы всех написанных функций корректны и совпадают. Измерьте выполнения всех написанных функций.\n"
      ]
    },
    {
      "cell_type": "code",
      "execution_count": null,
      "metadata": {
        "id": "amVaoJOYkBv_"
      },
      "outputs": [],
      "source": [
        "import pandas as pd\n",
        "import timeit\n",
        "import time"
      ]
    },
    {
      "cell_type": "code",
      "execution_count": null,
      "metadata": {
        "id": "y96PR--akBv_",
        "outputId": "e53ee109-3f2c-41fc-b031-e0751a2e4673"
      },
      "outputs": [
        {
          "name": "stdout",
          "output_type": "stream",
          "text": [
            "mean_rating_A time: 1.5684648999999808\n",
            "mean_rating_B time: 1.5728296000000341\n",
            "mean_rating_C time: 0.05699000000004162\n"
          ]
        }
      ],
      "source": [
        "# Загрузка таблицы с рецептами\n",
        "recipes = pd.read_csv('recipes_sample.csv')\n",
        "\n",
        "# Загрузка таблицы с отзывами\n",
        "reviews = pd.read_csv('reviews_sample.csv', index_col=0)\n",
        "\n",
        "recipes['submitted'] = pd.to_datetime(recipes['submitted'])\n",
        "\n",
        "reviews_2010 = reviews.loc[pd.DatetimeIndex(reviews['date']).year == 2010]\n",
        "\n",
        "def mean_rating_A(reviews):\n",
        "    total = 0\n",
        "    for _, row in reviews.iterrows():\n",
        "        total += row['rating']\n",
        "    return total / len(reviews)\n",
        "\n",
        "def mean_rating_B(reviews_2010):\n",
        "    total = 0\n",
        "    for _, row in reviews_2010.iterrows():\n",
        "        total += row['rating']\n",
        "    return total / len(reviews_2010)\n",
        "\n",
        "def mean_rating_C(reviews_2010):\n",
        "    return reviews_2010['rating'].mean()\n",
        "\n",
        "\n",
        "# Замер времени выполнения функции mean_rating_A\n",
        "time_A = timeit.timeit(lambda: mean_rating_A(reviews_2010), number=1)\n",
        "\n",
        "# Замер времени выполнения функции mean_rating_B\n",
        "time_B = timeit.timeit(lambda: mean_rating_B(reviews_2010), number=1)\n",
        "\n",
        "# Замер времени выполнения функции mean_rating_C\n",
        "time_C = timeit.timeit(lambda: mean_rating_C(reviews_2010), number=1)\n",
        "\n",
        "# Вывод результатов замеров времени\n",
        "print('mean_rating_A time:', time_A)\n",
        "print('mean_rating_B time:', time_B)\n",
        "print('mean_rating_C time:', time_C)"
      ]
    },
    {
      "cell_type": "markdown",
      "metadata": {
        "id": "TyFLlDsYkBv_"
      },
      "source": [
        "2. Какая из созданных функций выполняется медленнее? Что наиболее сильно влияет на скорость выполнения? Для ответа использовать профайлер `line_profiler`. Сохраните результаты работы профайлера в отдельную текстовую ячейку и прокомментируйте результаты его работы.\n",
        "\n",
        "(*). Сможете ли вы ускорить работу функции 1Б, отказавшись от использования метода `iterrows`, но не используя метод `mean`?"
      ]
    },
    {
      "cell_type": "code",
      "execution_count": null,
      "metadata": {
        "id": "kCE-XXiikBwB"
      },
      "outputs": [],
      "source": [
        "%lprun -f mean_rating_A mean_rating_A(reviews_2010)"
      ]
    },
    {
      "cell_type": "markdown",
      "metadata": {
        "id": "aBxnNuNukBwB"
      },
      "source": [
        "![Screenshot_1.png](attachment:Screenshot_1.png)"
      ]
    },
    {
      "cell_type": "code",
      "execution_count": null,
      "metadata": {
        "id": "v8cyL0TpkBwC"
      },
      "outputs": [],
      "source": [
        "%lprun -f mean_rating_B mean_rating_B(reviews_2010)"
      ]
    },
    {
      "cell_type": "markdown",
      "metadata": {
        "id": "YQUjAuYtkBwC"
      },
      "source": [
        "![Screenshot_2.png](attachment:Screenshot_2.png)"
      ]
    },
    {
      "cell_type": "code",
      "execution_count": null,
      "metadata": {
        "id": "BdawUyM1kBwC"
      },
      "outputs": [],
      "source": [
        "%lprun -f mean_rating_C mean_rating_C(reviews_2010)"
      ]
    },
    {
      "cell_type": "markdown",
      "metadata": {
        "id": "AiT2FEBTkBwC"
      },
      "source": [
        "![Screenshot_3.png](attachment:Screenshot_3.png)"
      ]
    },
    {
      "cell_type": "markdown",
      "metadata": {
        "id": "nXNykr8BkBwC"
      },
      "source": [
        "3. Вам предлагается воспользоваться функцией, которая собирает статистику о том, сколько отзывов содержат то или иное слово. Измерьте время выполнения этой функции. Сможете ли вы найти узкие места в коде, используя профайлер? Выпишите (словами), что в имеющемся коде реализовано неоптимально. Оптимизируйте функцию и добейтесь значительного (как минимум, на один порядок) прироста в скорости выполнения."
      ]
    },
    {
      "cell_type": "code",
      "execution_count": null,
      "metadata": {
        "id": "wOwk3zyZkBwC",
        "outputId": "84dcd034-5a18-4ec6-fa82-6fd672e635ef"
      },
      "outputs": [
        {
          "name": "stdout",
          "output_type": "stream",
          "text": [
            "5.088115300000027\n"
          ]
        }
      ],
      "source": [
        "def get_word_reviews_count(df):\n",
        "    word_reviews = {}\n",
        "    for _, row in df.dropna(subset=['review']).iterrows():\n",
        "        recipe_id, review = row['recipe_id'], row['review']\n",
        "        words = review.split(' ')\n",
        "        for word in words:\n",
        "            if word not in word_reviews:\n",
        "                word_reviews[word] = []\n",
        "            word_reviews[word].append(recipe_id)\n",
        "    \n",
        "    word_reviews_count = {}\n",
        "    for _, row in df.dropna(subset=['review']).iterrows():\n",
        "        review = row['review']\n",
        "        words = review.split(' ')\n",
        "        for word in words:\n",
        "            word_reviews_count[word] = len(word_reviews[word])\n",
        "    return word_reviews_count\n",
        "\n",
        "print(timeit.timeit(lambda: get_word_reviews_count(reviews_2010), number=1))"
      ]
    },
    {
      "cell_type": "markdown",
      "metadata": {
        "id": "heWSStbwkBwD"
      },
      "source": [
        "4. Напишите несколько версий функции `MAPE` (см. [MAPE](https://en.wikipedia.org/wiki/Mean_absolute_percentage_error)) для расчета среднего абсолютного процентного отклонения значения рейтинга отзыва на рецепт от среднего значения рейтинга по всем отзывам для этого рецепта. \n",
        "    1. Без использования векторизованных операций и методов массивов `numpy` и без использования `numba`\n",
        "    2. Без использования векторизованных операций и методов массивов `numpy`, но с использованием `numba`\n",
        "    3. С использованием векторизованных операций и методов массивов `numpy`, но без использования `numba`\n",
        "    4. C использованием векторизованных операций и методов массивов `numpy` и `numba`\n",
        "    \n",
        "Измерьте время выполнения каждой из реализаций.\n",
        "\n",
        "Замечание: удалите из выборки отзывы с нулевым рейтингом.\n"
      ]
    },
    {
      "cell_type": "code",
      "execution_count": null,
      "metadata": {
        "id": "DW0e9yzdkBwD",
        "outputId": "1093dd89-bc70-438e-f271-5ef4d047ae42"
      },
      "outputs": [
        {
          "data": {
            "text/html": [
              "<div>\n",
              "<style scoped>\n",
              "    .dataframe tbody tr th:only-of-type {\n",
              "        vertical-align: middle;\n",
              "    }\n",
              "\n",
              "    .dataframe tbody tr th {\n",
              "        vertical-align: top;\n",
              "    }\n",
              "\n",
              "    .dataframe thead th {\n",
              "        text-align: right;\n",
              "    }\n",
              "</style>\n",
              "<table border=\"1\" class=\"dataframe\">\n",
              "  <thead>\n",
              "    <tr style=\"text-align: right;\">\n",
              "      <th></th>\n",
              "      <th>recipe_id</th>\n",
              "      <th>rating</th>\n",
              "      <th>mean_rating</th>\n",
              "    </tr>\n",
              "  </thead>\n",
              "  <tbody>\n",
              "    <tr>\n",
              "      <th>370476</th>\n",
              "      <td>57993</td>\n",
              "      <td>5</td>\n",
              "      <td>4.818182</td>\n",
              "    </tr>\n",
              "    <tr>\n",
              "      <th>624300</th>\n",
              "      <td>142201</td>\n",
              "      <td>5</td>\n",
              "      <td>5.000000</td>\n",
              "    </tr>\n",
              "    <tr>\n",
              "      <th>187037</th>\n",
              "      <td>252013</td>\n",
              "      <td>4</td>\n",
              "      <td>4.000000</td>\n",
              "    </tr>\n",
              "    <tr>\n",
              "      <th>706134</th>\n",
              "      <td>404716</td>\n",
              "      <td>5</td>\n",
              "      <td>4.555556</td>\n",
              "    </tr>\n",
              "    <tr>\n",
              "      <th>312179</th>\n",
              "      <td>129396</td>\n",
              "      <td>5</td>\n",
              "      <td>5.000000</td>\n",
              "    </tr>\n",
              "    <tr>\n",
              "      <th>...</th>\n",
              "      <td>...</td>\n",
              "      <td>...</td>\n",
              "      <td>...</td>\n",
              "    </tr>\n",
              "    <tr>\n",
              "      <th>344676</th>\n",
              "      <td>314698</td>\n",
              "      <td>5</td>\n",
              "      <td>5.000000</td>\n",
              "    </tr>\n",
              "    <tr>\n",
              "      <th>1013457</th>\n",
              "      <td>335534</td>\n",
              "      <td>4</td>\n",
              "      <td>3.833333</td>\n",
              "    </tr>\n",
              "    <tr>\n",
              "      <th>1059834</th>\n",
              "      <td>222001</td>\n",
              "      <td>5</td>\n",
              "      <td>5.000000</td>\n",
              "    </tr>\n",
              "    <tr>\n",
              "      <th>453285</th>\n",
              "      <td>354979</td>\n",
              "      <td>5</td>\n",
              "      <td>4.064516</td>\n",
              "    </tr>\n",
              "    <tr>\n",
              "      <th>691207</th>\n",
              "      <td>415599</td>\n",
              "      <td>5</td>\n",
              "      <td>5.000000</td>\n",
              "    </tr>\n",
              "  </tbody>\n",
              "</table>\n",
              "<p>119891 rows × 3 columns</p>\n",
              "</div>"
            ],
            "text/plain": [
              "         recipe_id  rating  mean_rating\n",
              "370476       57993       5     4.818182\n",
              "624300      142201       5     5.000000\n",
              "187037      252013       4     4.000000\n",
              "706134      404716       5     4.555556\n",
              "312179      129396       5     5.000000\n",
              "...            ...     ...          ...\n",
              "344676      314698       5     5.000000\n",
              "1013457     335534       4     3.833333\n",
              "1059834     222001       5     5.000000\n",
              "453285      354979       5     4.064516\n",
              "691207      415599       5     5.000000\n",
              "\n",
              "[119891 rows x 3 columns]"
            ]
          },
          "execution_count": 3,
          "metadata": {},
          "output_type": "execute_result"
        }
      ],
      "source": [
        "recipes = pd.read_csv('recipes_sample.csv')\n",
        "reviews = pd.read_csv('reviews_sample.csv', index_col=0)\n",
        "\n",
        "df4 = reviews[['recipe_id', 'rating']].dropna()\n",
        "df4 = df4[df4['rating'] != 0]\n",
        "df4 = pd.merge(df4, df4.groupby(['recipe_id'])['rating'].mean().rename('mean_rating'), how='left', left_on='recipe_id', right_index=True)\n",
        "df4"
      ]
    },
    {
      "cell_type": "code",
      "execution_count": null,
      "metadata": {
        "id": "EsBR_ayvkBwD"
      },
      "outputs": [],
      "source": [
        "df4_a = df4['rating'].to_numpy()\n",
        "df4_b = df4['mean_rating'].to_numpy()"
      ]
    },
    {
      "cell_type": "code",
      "execution_count": null,
      "metadata": {
        "id": "QXqZc-WEkBwD",
        "outputId": "3b355570-5e92-40c0-eadb-c6141d613ebf"
      },
      "outputs": [
        {
          "data": {
            "text/plain": [
              "11.17155025905884"
            ]
          },
          "execution_count": 5,
          "metadata": {},
          "output_type": "execute_result"
        }
      ],
      "source": [
        "def mape_a():\n",
        "    n = len(df4_a)\n",
        "    return sum([abs(df4_a[i] - df4_b[i]) / df4_a[i] for i in range(n)]) / n * 100\n",
        "mape_a()"
      ]
    },
    {
      "cell_type": "code",
      "execution_count": null,
      "metadata": {
        "id": "jrw2p9LVkBwD",
        "outputId": "9c60023c-609c-44c1-b39e-dd905fdae32e"
      },
      "outputs": [
        {
          "name": "stdout",
          "output_type": "stream",
          "text": [
            "1.96 s ± 5.26 ms per loop (mean ± std. dev. of 7 runs, 1 loop each)\n"
          ]
        }
      ],
      "source": [
        "%timeit mape_a()"
      ]
    },
    {
      "cell_type": "code",
      "execution_count": null,
      "metadata": {
        "id": "b2iCBfc6kBwD",
        "outputId": "fbae1f53-638f-45c3-e58e-7e939b51a96f"
      },
      "outputs": [
        {
          "data": {
            "text/plain": [
              "11.17155025905884"
            ]
          },
          "execution_count": 9,
          "metadata": {},
          "output_type": "execute_result"
        }
      ],
      "source": [
        "@jit(nopython = True)\n",
        "def mape_b():\n",
        "    n = len(df4_a)\n",
        "    return sum([abs(df4_a[i] - df4_b[i]) / df4_a[i] for i in range(n)]) / n * 100\n",
        "mape_b()"
      ]
    },
    {
      "cell_type": "code",
      "execution_count": null,
      "metadata": {
        "id": "kqKMLF50kBwE"
      },
      "outputs": [],
      "source": [
        "%timeit mape_b()"
      ]
    },
    {
      "cell_type": "code",
      "execution_count": null,
      "metadata": {
        "id": "w1l052lHkBwE"
      },
      "outputs": [],
      "source": [
        "def mape_c():\n",
        "    return np.mean(np.fabs(df4_a - df4_b) / df4_a) * 100\n",
        "mape_c()"
      ]
    },
    {
      "cell_type": "code",
      "execution_count": null,
      "metadata": {
        "id": "gAWOMvzKkBwE"
      },
      "outputs": [],
      "source": [
        "%timeit mape_c()"
      ]
    },
    {
      "cell_type": "code",
      "execution_count": null,
      "metadata": {
        "id": "-J6QLplmkBwE"
      },
      "outputs": [],
      "source": [
        "@jit(nopython = True)\n",
        "def mape_d():\n",
        "    return np.mean(np.fabs(df4_a - df4_b) / df4_a) * 100\n",
        "mape_d()"
      ]
    },
    {
      "cell_type": "code",
      "execution_count": null,
      "metadata": {
        "id": "wYqsc5akkBwE"
      },
      "outputs": [],
      "source": [
        "%timeit mape_d()"
      ]
    }
  ],
  "metadata": {
    "kernelspec": {
      "display_name": "Python 3 (ipykernel)",
      "language": "python",
      "name": "python3"
    },
    "language_info": {
      "codemirror_mode": {
        "name": "ipython",
        "version": 3
      },
      "file_extension": ".py",
      "mimetype": "text/x-python",
      "name": "python",
      "nbconvert_exporter": "python",
      "pygments_lexer": "ipython3",
      "version": "3.9.12"
    },
    "colab": {
      "provenance": []
    }
  },
  "nbformat": 4,
  "nbformat_minor": 0
}