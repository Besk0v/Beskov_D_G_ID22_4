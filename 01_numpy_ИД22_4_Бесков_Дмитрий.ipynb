{
  "cells": [
    {
      "cell_type": "markdown",
      "metadata": {
        "id": "BGHBVRZ53Z2T"
      },
      "source": [
        "# Numpy"
      ]
    },
    {
      "cell_type": "markdown",
      "metadata": {
        "id": "GlWbaUav3Z2U"
      },
      "source": [
        "Материалы:\n",
        "* Макрушин С.В. \"Лекция 1: Библиотека Numpy\"\n",
        "* https://numpy.org/doc/stable/user/index.html\n",
        "* https://numpy.org/doc/stable/reference/index.html"
      ]
    },
    {
      "cell_type": "markdown",
      "metadata": {
        "id": "V0spIkbf3Z2V"
      },
      "source": [
        "## Задачи для совместного разбора"
      ]
    },
    {
      "cell_type": "code",
      "execution_count": null,
      "metadata": {
        "id": "NyejV4A03Z2V"
      },
      "outputs": [],
      "source": [
        "import numpy as np"
      ]
    },
    {
      "cell_type": "markdown",
      "metadata": {
        "id": "U38wYiSI3Z2V"
      },
      "source": [
        "1. Сгенерировать двухмерный массив `arr` размерности (4, 7), состоящий из случайных действительных чисел, равномерно распределенных в диапазоне от 0 до 20. Нормализовать значения массива с помощью преобразования вида  $𝑎𝑥+𝑏$  так, что после нормализации максимальный элемент масcива будет равен 1.0, минимальный 0.0"
      ]
    },
    {
      "cell_type": "code",
      "execution_count": null,
      "metadata": {
        "id": "fPDZszy33Z2W",
        "outputId": "109bbae9-14e0-488b-a2d8-bd859531d150"
      },
      "outputs": [
        {
          "name": "stdout",
          "output_type": "stream",
          "text": [
            "[[ 2 14  9 13  9  2 14]\n",
            " [ 4  5 10 15 10  4 11]\n",
            " [10 19  3  5 18 17 12]\n",
            " [ 6  0 12 16  6  8 16]]\n"
          ]
        }
      ],
      "source": [
        "arr = np.random.randint(0, 20, size=(4, 7))\n",
        "print(arr)\n"
      ]
    },
    {
      "cell_type": "markdown",
      "metadata": {
        "id": "V0QAam713Z2W"
      },
      "source": [
        "2. Создать матрицу 8 на 10 из случайных целых (используя модуль `numpy.random`) чисел из диапозона от 0 до 10 и найти в ней строку (ее индекс и вывести саму строку), в которой сумма значений минимальна."
      ]
    },
    {
      "cell_type": "code",
      "execution_count": null,
      "metadata": {
        "id": "mDzTi5Z33Z2W",
        "outputId": "93e99361-68b4-43b4-b6e9-abad35949073"
      },
      "outputs": [
        {
          "name": "stdout",
          "output_type": "stream",
          "text": [
            "[[2 4 9 7 2 8 6 2 7 8]\n",
            " [2 6 1 4 7 9 8 9 6 2]\n",
            " [5 7 4 0 0 4 3 4 5 5]\n",
            " [7 8 4 3 4 3 3 5 4 2]\n",
            " [1 4 7 1 4 2 2 0 9 9]\n",
            " [6 2 9 6 7 4 8 3 3 2]\n",
            " [0 9 8 3 5 3 5 1 8 1]\n",
            " [7 2 7 4 6 4 0 2 8 0]]\n",
            "Строка, в которой сумма значений наибольшая: [2 4 9 7 2 8 6 2 7 8]\n"
          ]
        }
      ],
      "source": [
        "arr = np.random.randint(0, 10, size=(8, 10))\n",
        "print(arr)\n",
        "summ = np.sum(arr, axis=1)\n",
        "# print(summ)\n",
        "index = np.argmax(summ)\n",
        "print(f'Строка, в которой сумма значений наибольшая: {arr[index]}')"
      ]
    },
    {
      "cell_type": "markdown",
      "metadata": {
        "id": "0X1GAiy03Z2X"
      },
      "source": [
        "3. Найти евклидово расстояние между двумя одномерными векторами одинаковой размерности."
      ]
    },
    {
      "cell_type": "code",
      "execution_count": null,
      "metadata": {
        "id": "mGSIbXw_3Z2X"
      },
      "outputs": [],
      "source": []
    },
    {
      "cell_type": "markdown",
      "metadata": {
        "id": "GV7iApVz3Z2X"
      },
      "source": [
        "4. Решить матричное уравнение `A*X*B=-C` - найти матрицу `X`. Где `A = [[-1, 2, 4], [-3, 1, 2], [-3, 0, 1]]`, `B=[[3, -1], [2, 1]]`, `C=[[7, 21], [11, 8], [8, 4]]`."
      ]
    },
    {
      "cell_type": "code",
      "execution_count": null,
      "metadata": {
        "id": "e8tCug4q3Z2X"
      },
      "outputs": [],
      "source": [
        "a = [[-1, 2, 4], [-3, 1, 2], [-3, 0, 1]]\n",
        "b =[[3, -1], [2, 1]]\n",
        "c =[[7, 21], [11, 8], [8, 4]]\n",
        "\n"
      ]
    },
    {
      "cell_type": "markdown",
      "metadata": {
        "id": "QlImu3Qz3Z2X"
      },
      "source": [
        "## Лабораторная работа №1"
      ]
    },
    {
      "cell_type": "markdown",
      "metadata": {
        "id": "pP6WESyC3Z2X"
      },
      "source": [
        "Замечание: при решении данных задач не подразумевается использования циклов или генераторов Python, если в задании не сказано обратного. Решение должно опираться на использования функционала библиотеки `numpy`."
      ]
    },
    {
      "cell_type": "code",
      "execution_count": null,
      "metadata": {
        "id": "Z39Ns5WR3Z2X"
      },
      "outputs": [],
      "source": [
        "import numpy as np"
      ]
    },
    {
      "cell_type": "markdown",
      "metadata": {
        "id": "_y4FHH7A3Z2X"
      },
      "source": [
        "1. Файл `minutes_n_ingredients.csv` содержит информацию об идентификаторе рецепта, времени его выполнения в минутах и количестве необходимых ингредиентов. Считайте данные из этого файла в виде массива `numpy` типа `int32`, используя `np.loadtxt`. Выведите на экран первые 5 строк массива."
      ]
    },
    {
      "cell_type": "code",
      "execution_count": null,
      "metadata": {
        "id": "KqLmA06-3Z2Y",
        "outputId": "69e13871-beda-45e8-d52f-575ba4c5459e"
      },
      "outputs": [
        {
          "name": "stdout",
          "output_type": "stream",
          "text": [
            "[[127244     60     16]\n",
            " [ 23891     25      7]\n",
            " [ 94746     10      6]\n",
            " [ 67660      5      6]\n",
            " [157911     60     14]]\n"
          ]
        }
      ],
      "source": [
        "with open('minutes_n_ingredients.csv', 'r') as file:\n",
        "    data = file.read()\n",
        "\n",
        "data = np.loadtxt('minutes_n_ingredients.csv', delimiter=\",\", skiprows=1, dtype=np.int32)\n",
        "print(data[0:5, :])"
      ]
    },
    {
      "cell_type": "markdown",
      "metadata": {
        "id": "dF0-wyiM3Z2Y"
      },
      "source": [
        "2. Вычислите среднее значение, минимум, максимум и медиану по каждому из столбцов, кроме первого."
      ]
    },
    {
      "cell_type": "code",
      "execution_count": null,
      "metadata": {
        "id": "Dt-GHHF03Z2Y",
        "outputId": "03d2e695-6bc8-478d-eeec-1e1f27bf7e04"
      },
      "outputs": [
        {
          "name": "stdout",
          "output_type": "stream",
          "text": [
            "Max value of the second column: 2147483647\n",
            "Max value of the third column:: 39\n",
            "Average mean value of the second column: 21601.00169\n",
            "Average mean value of the third column: 9.05528\n",
            "Min value of the second column: 0\n",
            "Min value of the third column: 1\n",
            "Median value of the second column: 40.0\n",
            "Median value of the third column:: 9.0\n"
          ]
        }
      ],
      "source": [
        "# are the columns correct ??\n",
        "\n",
        "# max values \n",
        "col2_max = np.max(data[:,1])\n",
        "col3_max = np.max(data[:,2])\n",
        "\n",
        "\n",
        "print(f'Max value of the second column: {col2_max}')\n",
        "print(f'Max value of the third column:: {col3_max}')\n",
        "\n",
        "# average mean \n",
        "col2_mean = np.mean(data[:,1])\n",
        "col3_mean = np.mean(data[:,2])\n",
        "\n",
        "print(f'Average mean value of the second column: {col2_mean}')\n",
        "print(f'Average mean value of the third column: {col3_mean}')\n",
        "\n",
        "# min value \n",
        "col2_min = np.min(data[:,1])\n",
        "col3_min = np.min(data[:,2])\n",
        "print(f'Min value of the second column: {col2_min}')\n",
        "print(f'Min value of the third column: {col3_min}')\n",
        "\n",
        "col2_median = np.median(data[:,1])\n",
        "col3_median = np.median(data[:,2])\n",
        "\n",
        "print(f'Median value of the second column: {col2_median}')\n",
        "print(f'Median value of the third column:: {col3_median}')\n"
      ]
    },
    {
      "cell_type": "markdown",
      "metadata": {
        "id": "deLMCFmi3Z2Y"
      },
      "source": [
        "3. Ограничьте сверху значения продолжительности выполнения рецепта значением квантиля $q_{0.75}$. "
      ]
    },
    {
      "cell_type": "code",
      "execution_count": null,
      "metadata": {
        "id": "uMEY1m9j3Z2Y",
        "outputId": "93cdbae0-8e8c-4477-9327-3988c4ed4bb7"
      },
      "outputs": [
        {
          "name": "stdout",
          "output_type": "stream",
          "text": [
            "65.0\n",
            "[[127244     60     16]\n",
            " [ 23891     25      7]\n",
            " [ 94746     10      6]\n",
            " ...\n",
            " [ 43407     35      7]\n",
            " [498432     65     15]\n",
            " [370915      5      4]]\n"
          ]
        }
      ],
      "source": [
        "data3 = data[data[:,1] <= np.quantile(data[:,1], 0.75)]\n",
        "print(data3)"
      ]
    },
    {
      "cell_type": "markdown",
      "metadata": {
        "id": "sTfFjk5D3Z2Y"
      },
      "source": [
        "4. Посчитайте, для скольких рецептов указана продолжительность, равная нулю. Замените для таких строк значение в данном столбце на 1."
      ]
    },
    {
      "cell_type": "markdown",
      "metadata": {
        "id": "GsVTEoPQ3Z2Y"
      },
      "source": [
        "1. найти рецепты (id то есть первый столбик) для которых значение второго столбика равно 0\n",
        "2. заменить значение второго ст на 1"
      ]
    },
    {
      "cell_type": "code",
      "execution_count": null,
      "metadata": {
        "id": "5k6jmVpd3Z2Z",
        "outputId": "02fc1932-68ac-4ac7-be80-e847c915d422"
      },
      "outputs": [
        {
          "name": "stdout",
          "output_type": "stream",
          "text": [
            "0\n",
            "[[127244     60     16]\n",
            " [ 23891     25      7]\n",
            " [ 94746     10      6]\n",
            " ...\n",
            " [498432     65     15]\n",
            " [370915      5      4]\n",
            " [ 81993    140     14]]\n"
          ]
        }
      ],
      "source": [
        "# print(len(data[data[:, 1] == 0]))\n",
        "# data[:, 1] = np.where(data[:, 1] == 0, 1, 0)\n",
        "# print(data)\n",
        "\n",
        "print(np.count_nonzero(data[:,1] == 0))\n",
        "data[data == 0] = 1"
      ]
    },
    {
      "cell_type": "markdown",
      "metadata": {
        "id": "cnEeMPUv3Z2Z"
      },
      "source": [
        "5. Посчитайте, сколько уникальных рецептов находится в датасете."
      ]
    },
    {
      "cell_type": "code",
      "execution_count": null,
      "metadata": {
        "id": "FW_9e-1K3Z2Z",
        "outputId": "781a9743-eef3-4e3e-eb6e-db4311dd3da2"
      },
      "outputs": [
        {
          "name": "stdout",
          "output_type": "stream",
          "text": [
            "100000\n"
          ]
        }
      ],
      "source": [
        "print(len(np.unique(data[:,0])))"
      ]
    },
    {
      "cell_type": "markdown",
      "metadata": {
        "id": "pYSE8-0J3Z2Z"
      },
      "source": [
        "6. Сколько и каких различных значений кол-ва ингредиентов присутвует в рецептах из датасета?"
      ]
    },
    {
      "cell_type": "code",
      "execution_count": null,
      "metadata": {
        "id": "JNRl1j2z3Z2Z",
        "outputId": "51e44b06-21b9-46b6-94a3-664dcb780b5a"
      },
      "outputs": [
        {
          "name": "stdout",
          "output_type": "stream",
          "text": [
            "Количество различных значений ингредиентов: 37\n",
            "[ 1  2  3  4  5  6  7  8  9 10 11 12 13 14 15 16 17 18 19 20 21 22 23 24\n",
            " 25 26 27 28 29 30 31 32 33 34 35 37 39]\n"
          ]
        }
      ],
      "source": [
        "print(f'Количество различных значений ингредиентов: {len(np.unique(data[:,2]))}')\n",
        "print(np.unique(data[:,2]))"
      ]
    },
    {
      "cell_type": "markdown",
      "metadata": {
        "id": "vO-SxBec3Z2Z"
      },
      "source": [
        "7. Создайте версию массива, содержащую информацию только о рецептах, состоящих не более чем из 5 ингредиентов."
      ]
    },
    {
      "cell_type": "code",
      "execution_count": null,
      "metadata": {
        "id": "3U0nvbuB3Z2Z",
        "outputId": "1738d7dd-63df-4543-e95f-fb1f29fb7592"
      },
      "outputs": [
        {
          "name": "stdout",
          "output_type": "stream",
          "text": [
            "[[446597     15      5]\n",
            " [204134      5      3]\n",
            " [ 25623      6      4]\n",
            " ...\n",
            " [ 52088     60      5]\n",
            " [128811     15      4]\n",
            " [370915      5      4]]\n"
          ]
        }
      ],
      "source": [
        "data7 = data[data[:,2] <= 5]\n",
        "print(data7)"
      ]
    },
    {
      "cell_type": "markdown",
      "metadata": {
        "id": "yUBAfJFg3Z2Z"
      },
      "source": [
        "8. Для каждого рецепта посчитайте, сколько в среднем ингредиентов приходится на одну минуту рецепта. Найдите максимальное значение этой величины для всего датасета"
      ]
    },
    {
      "cell_type": "code",
      "execution_count": null,
      "metadata": {
        "id": "gbTSnDxP3Z2a",
        "outputId": "67dfafa8-d9c6-420a-b2a9-fc89bf7ccaaa"
      },
      "outputs": [
        {
          "name": "stdout",
          "output_type": "stream",
          "text": [
            "Максимальное: 24.0\n",
            "[0.26666667 0.28       0.6        ... 0.23076923 0.8        0.1       ]\n"
          ]
        }
      ],
      "source": [
        "data8 = data[:, 2] / data[:, 1]\n",
        "print(f'Максимальное: {np.max(data8)}\\n{data8}')"
      ]
    },
    {
      "cell_type": "markdown",
      "metadata": {
        "id": "1tOH6OqH3Z2a"
      },
      "source": [
        "9. Вычислите среднее количество ингредиентов для топ-100 рецептов с наибольшей продолжительностью"
      ]
    },
    {
      "cell_type": "code",
      "execution_count": null,
      "metadata": {
        "id": "Hg_dD5Bz3Z2a",
        "outputId": "cca03b8d-0cc5-4ae5-9c57-0dde630efd5e"
      },
      "outputs": [
        {
          "name": "stdout",
          "output_type": "stream",
          "text": [
            "6.61\n"
          ]
        }
      ],
      "source": [
        "data9 = data[np.argsort(data[:, 1])][-100:, 2]\n",
        "print(np.mean(data9))"
      ]
    },
    {
      "cell_type": "markdown",
      "metadata": {
        "id": "2y1TY6kw3Z2a"
      },
      "source": [
        "10. Выберите случайным образом и выведите информацию о 10 различных рецептах"
      ]
    },
    {
      "cell_type": "code",
      "execution_count": null,
      "metadata": {
        "id": "nlnS635b3Z2a",
        "outputId": "62fd45e6-bdab-40b2-c202-948fb0f95dea"
      },
      "outputs": [
        {
          "name": "stdout",
          "output_type": "stream",
          "text": [
            "[[ 35975     75      9]\n",
            " [464309     50     11]\n",
            " [261628     50     10]\n",
            " [203869     30     16]\n",
            " [122362      5      4]\n",
            " [461329      7      6]\n",
            " [ 84643     65      3]\n",
            " [265838     40     14]\n",
            " [150866     75      9]\n",
            " [425278     70     11]]\n"
          ]
        }
      ],
      "source": [
        "print(data[np.random.randint(data.shape[0], size = 10)])"
      ]
    },
    {
      "cell_type": "markdown",
      "metadata": {
        "id": "9enJl5GX3Z2a"
      },
      "source": [
        "11. Выведите процент рецептов, кол-во ингредиентов в которых меньше среднего."
      ]
    },
    {
      "cell_type": "code",
      "execution_count": null,
      "metadata": {
        "id": "dvZgmT363Z2a",
        "outputId": "1382db0e-0c73-4896-d2d4-40ba453d4327"
      },
      "outputs": [
        {
          "name": "stdout",
          "output_type": "stream",
          "text": [
            "58.802\n"
          ]
        }
      ],
      "source": [
        "res11 = (data[data[:, 2] < np.mean(data[:, 2])].shape[0] / data.shape[0]) * 100\n",
        "print(res11)"
      ]
    },
    {
      "cell_type": "markdown",
      "metadata": {
        "id": "0E2FNgcH3Z2a"
      },
      "source": [
        "12. Назовем \"простым\" такой рецепт, длительность выполнения которого не больше 20 минут и кол-во ингредиентов в котором не больше 5. Создайте версию датасета с дополнительным столбцом, значениями которого являются 1, если рецепт простой, и 0 в противном случае."
      ]
    },
    {
      "cell_type": "code",
      "execution_count": null,
      "metadata": {
        "id": "M0AI7RD03Z2a",
        "outputId": "82673e7e-abc7-4f83-f8cf-d24372858cbc"
      },
      "outputs": [
        {
          "name": "stdout",
          "output_type": "stream",
          "text": [
            "[[127244     60     16      0]\n",
            " [ 23891     25      7      0]\n",
            " [ 94746     10      6      0]\n",
            " ...\n",
            " [498432     65     15      0]\n",
            " [370915      5      4      1]\n",
            " [ 81993    140     14      0]]\n"
          ]
        }
      ],
      "source": [
        "data_booli = (data[:,1] <= 20) & (data[:,2] <= 5)\n",
        "data12 = np.hstack((data, data_booli[:, np.newaxis]))\n",
        "print(data12)"
      ]
    },
    {
      "cell_type": "markdown",
      "metadata": {
        "id": "SPK-O-SQ3Z2b"
      },
      "source": [
        "13. Выведите процент \"простых\" рецептов в датасете"
      ]
    },
    {
      "cell_type": "code",
      "execution_count": null,
      "metadata": {
        "id": "oZJZ7ki13Z2b",
        "outputId": "4d97183e-93d5-457b-c44e-22a9c3ee412d"
      },
      "outputs": [
        {
          "name": "stdout",
          "output_type": "stream",
          "text": [
            "9.552\n"
          ]
        }
      ],
      "source": [
        "print(data12[data12[:,3] == 1].shape[0] / data.shape[0] * 100)"
      ]
    },
    {
      "cell_type": "markdown",
      "metadata": {
        "id": "d1mgg64a3Z2b"
      },
      "source": [
        "14. Разделим рецепты на группы по следующему правилу. Назовем рецепты короткими, если их продолжительность составляет менее 10 минут; стандартными, если их продолжительность составляет более 10, но менее 20 минут; и длинными, если их продолжительность составляет не менее 20 минут. Создайте трехмерный массив, где нулевая ось отвечает за номер группы (короткий, стандартный или длинный рецепт), первая ось - за сам рецепт и вторая ось - за характеристики рецепта. Выберите максимальное количество рецептов из каждой группы таким образом, чтобы было возможно сформировать трехмерный массив. Выведите форму полученного массива."
      ]
    },
    {
      "cell_type": "code",
      "execution_count": null,
      "metadata": {
        "id": "5FQDza4J3Z2b"
      },
      "outputs": [],
      "source": []
    }
  ],
  "metadata": {
    "kernelspec": {
      "display_name": "Python 3",
      "language": "python",
      "name": "python3"
    },
    "language_info": {
      "codemirror_mode": {
        "name": "ipython",
        "version": 3
      },
      "file_extension": ".py",
      "mimetype": "text/x-python",
      "name": "python",
      "nbconvert_exporter": "python",
      "pygments_lexer": "ipython3",
      "version": "3.11.1 (v3.11.1:a7a450f84a, Dec  6 2022, 15:24:06) [Clang 13.0.0 (clang-1300.0.29.30)]"
    },
    "vscode": {
      "interpreter": {
        "hash": "aee8b7b246df8f9039afb4144a1f6fd8d2ca17a180786b69acc140d282b71a49"
      }
    },
    "colab": {
      "provenance": []
    }
  },
  "nbformat": 4,
  "nbformat_minor": 0
}