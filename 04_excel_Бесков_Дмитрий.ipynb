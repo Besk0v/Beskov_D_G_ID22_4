{
  "cells": [
    {
      "cell_type": "markdown",
      "metadata": {
        "id": "-Taa1gXiR3Z9"
      },
      "source": [
        "# Работа с Excel"
      ]
    },
    {
      "cell_type": "markdown",
      "metadata": {
        "id": "QW2K3rWiR3Z-"
      },
      "source": [
        "Материалы:\n",
        "* Макрушин С.В. Лекция 7: Работа с Excel\n",
        "* https://docs.xlwings.org/en/stable/quickstart.html\n",
        "* https://nbviewer.jupyter.org/github/pybokeh/jupyter_notebooks/blob/master/xlwings/Excel_Formatting.ipynb#search_text\n"
      ]
    },
    {
      "cell_type": "markdown",
      "metadata": {
        "id": "Zs2DDIwtR3Z_"
      },
      "source": [
        "## Задачи для совместного разбора"
      ]
    },
    {
      "cell_type": "markdown",
      "metadata": {
        "id": "R4hxbaBiR3Z_"
      },
      "source": [
        "1. На листе \"Рецептура\" файла `себестоимостьА_в1.xlsx` для области \"Пшеничный хлеб\" рассчитать себестоимость всех видов продукции."
      ]
    },
    {
      "cell_type": "code",
      "execution_count": null,
      "metadata": {
        "id": "stkbiDGjR3Z_"
      },
      "outputs": [],
      "source": [
        "import pandas as pd\n",
        "import xlwings as xw\n",
        "import csv\n",
        "import numpy as np"
      ]
    },
    {
      "cell_type": "code",
      "execution_count": null,
      "metadata": {
        "id": "efqgYr3nR3aA",
        "outputId": "4aa051fa-acb4-4a95-98fe-985acd4f2223"
      },
      "outputs": [
        {
          "data": {
            "text/plain": [
              "[21.48, 16.525, 17.423000000000002, 18.085]"
            ]
          },
          "execution_count": 79,
          "metadata": {},
          "output_type": "execute_result"
        }
      ],
      "source": [
        "wb = xw.Book('себестоимостьА_в1.xlsx')\n",
        "sht = wb.sheets['Рецептура']\n",
        "res = []\n",
        "for i in range(7, 11):\n",
        "    res.append(sum(np.array([0 if i == None else i for i in sht.range(f'G{i}:O{i}').value]) * np.array(sht.range('G14:O14').value)))\n",
        "res"
      ]
    },
    {
      "cell_type": "markdown",
      "metadata": {
        "id": "f1Og9Rt_R3aA"
      },
      "source": [
        "2. Результаты расчетов 1.1 сохранить в отдельном столбце области \"Пшеничный хлеб\""
      ]
    },
    {
      "cell_type": "code",
      "execution_count": null,
      "metadata": {
        "id": "5dF6q7tER3aA"
      },
      "outputs": [],
      "source": [
        "sht.range('P5').value = 'Себестоимость'\n",
        "sht.range('P7:P10').options(transpose = True).value = res"
      ]
    },
    {
      "cell_type": "markdown",
      "metadata": {
        "id": "K33W0aagR3aA"
      },
      "source": [
        "3. Приблизить форматирование столбца, добавленного в задаче 2 к оформлению всей области."
      ]
    },
    {
      "cell_type": "markdown",
      "metadata": {
        "id": "o_5M3-QxR3aB"
      },
      "source": [
        "4. Выполнить 3 с помощью \"протягиваемых\" формул."
      ]
    },
    {
      "cell_type": "markdown",
      "metadata": {
        "id": "mcYoHPf9R3aB"
      },
      "source": [
        "## Лабораторная работа 7.1"
      ]
    },
    {
      "cell_type": "markdown",
      "metadata": {
        "id": "_PuokvZ8R3aB"
      },
      "source": [
        "1. Загрузите данные из файлов `reviews_sample.csv` (__ЛР2__) и `recipes_sample.csv` (__ЛР5__) в виде `pd.DataFrame`. Обратите внимание на корректное считывание столбца(ов) с индексами. Оставьте в таблице с рецептами следующие столбцы: `id`, `name`, `minutes`, `submitted`, `description`, `n_ingredients`"
      ]
    },
    {
      "cell_type": "code",
      "execution_count": null,
      "metadata": {
        "id": "nRKwVo5oR3aB"
      },
      "outputs": [],
      "source": [
        "reviews = pd.read_csv('reviews_sample.csv')\n",
        "recipes = pd.read_csv('recipes_sample.csv')[['id', 'name', 'minutes', 'submitted', 'description', 'n_ingredients']]"
      ]
    },
    {
      "cell_type": "code",
      "execution_count": null,
      "metadata": {
        "scrolled": false,
        "id": "k0RvrZdkR3aB",
        "outputId": "376fc6f4-f0b5-4a31-b54f-b62f27a88bf9"
      },
      "outputs": [
        {
          "data": {
            "text/html": [
              "<div>\n",
              "<style scoped>\n",
              "    .dataframe tbody tr th:only-of-type {\n",
              "        vertical-align: middle;\n",
              "    }\n",
              "\n",
              "    .dataframe tbody tr th {\n",
              "        vertical-align: top;\n",
              "    }\n",
              "\n",
              "    .dataframe thead th {\n",
              "        text-align: right;\n",
              "    }\n",
              "</style>\n",
              "<table border=\"1\" class=\"dataframe\">\n",
              "  <thead>\n",
              "    <tr style=\"text-align: right;\">\n",
              "      <th></th>\n",
              "      <th>Unnamed: 0</th>\n",
              "      <th>user_id</th>\n",
              "      <th>recipe_id</th>\n",
              "      <th>date</th>\n",
              "      <th>rating</th>\n",
              "      <th>review</th>\n",
              "    </tr>\n",
              "  </thead>\n",
              "  <tbody>\n",
              "    <tr>\n",
              "      <th>0</th>\n",
              "      <td>370476</td>\n",
              "      <td>21752</td>\n",
              "      <td>57993</td>\n",
              "      <td>2003-05-01</td>\n",
              "      <td>5</td>\n",
              "      <td>Last week whole sides of frozen salmon fillet ...</td>\n",
              "    </tr>\n",
              "    <tr>\n",
              "      <th>1</th>\n",
              "      <td>624300</td>\n",
              "      <td>431813</td>\n",
              "      <td>142201</td>\n",
              "      <td>2007-09-16</td>\n",
              "      <td>5</td>\n",
              "      <td>So simple and so tasty!  I used a yellow capsi...</td>\n",
              "    </tr>\n",
              "    <tr>\n",
              "      <th>2</th>\n",
              "      <td>187037</td>\n",
              "      <td>400708</td>\n",
              "      <td>252013</td>\n",
              "      <td>2008-01-10</td>\n",
              "      <td>4</td>\n",
              "      <td>Very nice breakfast HH, easy to make and yummy...</td>\n",
              "    </tr>\n",
              "    <tr>\n",
              "      <th>3</th>\n",
              "      <td>706134</td>\n",
              "      <td>2001852463</td>\n",
              "      <td>404716</td>\n",
              "      <td>2017-12-11</td>\n",
              "      <td>5</td>\n",
              "      <td>These are a favorite for the holidays and so e...</td>\n",
              "    </tr>\n",
              "    <tr>\n",
              "      <th>4</th>\n",
              "      <td>312179</td>\n",
              "      <td>95810</td>\n",
              "      <td>129396</td>\n",
              "      <td>2008-03-14</td>\n",
              "      <td>5</td>\n",
              "      <td>Excellent soup!  The tomato flavor is just gre...</td>\n",
              "    </tr>\n",
              "    <tr>\n",
              "      <th>...</th>\n",
              "      <td>...</td>\n",
              "      <td>...</td>\n",
              "      <td>...</td>\n",
              "      <td>...</td>\n",
              "      <td>...</td>\n",
              "      <td>...</td>\n",
              "    </tr>\n",
              "    <tr>\n",
              "      <th>126691</th>\n",
              "      <td>1013457</td>\n",
              "      <td>1270706</td>\n",
              "      <td>335534</td>\n",
              "      <td>2009-05-17</td>\n",
              "      <td>4</td>\n",
              "      <td>This recipe was great! I made it last night. I...</td>\n",
              "    </tr>\n",
              "    <tr>\n",
              "      <th>126692</th>\n",
              "      <td>158736</td>\n",
              "      <td>2282344</td>\n",
              "      <td>8701</td>\n",
              "      <td>2012-06-03</td>\n",
              "      <td>0</td>\n",
              "      <td>This recipe is outstanding. I followed the rec...</td>\n",
              "    </tr>\n",
              "    <tr>\n",
              "      <th>126693</th>\n",
              "      <td>1059834</td>\n",
              "      <td>689540</td>\n",
              "      <td>222001</td>\n",
              "      <td>2008-04-08</td>\n",
              "      <td>5</td>\n",
              "      <td>Well, we were not a crowd but it was a fabulou...</td>\n",
              "    </tr>\n",
              "    <tr>\n",
              "      <th>126694</th>\n",
              "      <td>453285</td>\n",
              "      <td>2000242659</td>\n",
              "      <td>354979</td>\n",
              "      <td>2015-06-02</td>\n",
              "      <td>5</td>\n",
              "      <td>I have been a steak eater and dedicated BBQ gr...</td>\n",
              "    </tr>\n",
              "    <tr>\n",
              "      <th>126695</th>\n",
              "      <td>691207</td>\n",
              "      <td>463435</td>\n",
              "      <td>415599</td>\n",
              "      <td>2010-09-30</td>\n",
              "      <td>5</td>\n",
              "      <td>Wonderful and simple to prepare seasoning blen...</td>\n",
              "    </tr>\n",
              "  </tbody>\n",
              "</table>\n",
              "<p>126696 rows × 6 columns</p>\n",
              "</div>"
            ],
            "text/plain": [
              "        Unnamed: 0     user_id  recipe_id        date  rating  \\\n",
              "0           370476       21752      57993  2003-05-01       5   \n",
              "1           624300      431813     142201  2007-09-16       5   \n",
              "2           187037      400708     252013  2008-01-10       4   \n",
              "3           706134  2001852463     404716  2017-12-11       5   \n",
              "4           312179       95810     129396  2008-03-14       5   \n",
              "...            ...         ...        ...         ...     ...   \n",
              "126691     1013457     1270706     335534  2009-05-17       4   \n",
              "126692      158736     2282344       8701  2012-06-03       0   \n",
              "126693     1059834      689540     222001  2008-04-08       5   \n",
              "126694      453285  2000242659     354979  2015-06-02       5   \n",
              "126695      691207      463435     415599  2010-09-30       5   \n",
              "\n",
              "                                                   review  \n",
              "0       Last week whole sides of frozen salmon fillet ...  \n",
              "1       So simple and so tasty!  I used a yellow capsi...  \n",
              "2       Very nice breakfast HH, easy to make and yummy...  \n",
              "3       These are a favorite for the holidays and so e...  \n",
              "4       Excellent soup!  The tomato flavor is just gre...  \n",
              "...                                                   ...  \n",
              "126691  This recipe was great! I made it last night. I...  \n",
              "126692  This recipe is outstanding. I followed the rec...  \n",
              "126693  Well, we were not a crowd but it was a fabulou...  \n",
              "126694  I have been a steak eater and dedicated BBQ gr...  \n",
              "126695  Wonderful and simple to prepare seasoning blen...  \n",
              "\n",
              "[126696 rows x 6 columns]"
            ]
          },
          "execution_count": 7,
          "metadata": {},
          "output_type": "execute_result"
        }
      ],
      "source": [
        "reviews"
      ]
    },
    {
      "cell_type": "code",
      "execution_count": null,
      "metadata": {
        "id": "fA1zMrwZR3aB",
        "outputId": "021747f0-5ced-450a-94c7-49efc90950db"
      },
      "outputs": [
        {
          "data": {
            "text/html": [
              "<div>\n",
              "<style scoped>\n",
              "    .dataframe tbody tr th:only-of-type {\n",
              "        vertical-align: middle;\n",
              "    }\n",
              "\n",
              "    .dataframe tbody tr th {\n",
              "        vertical-align: top;\n",
              "    }\n",
              "\n",
              "    .dataframe thead th {\n",
              "        text-align: right;\n",
              "    }\n",
              "</style>\n",
              "<table border=\"1\" class=\"dataframe\">\n",
              "  <thead>\n",
              "    <tr style=\"text-align: right;\">\n",
              "      <th></th>\n",
              "      <th>id</th>\n",
              "      <th>name</th>\n",
              "      <th>minutes</th>\n",
              "      <th>submitted</th>\n",
              "      <th>description</th>\n",
              "      <th>n_ingredients</th>\n",
              "    </tr>\n",
              "  </thead>\n",
              "  <tbody>\n",
              "    <tr>\n",
              "      <th>0</th>\n",
              "      <td>44123</td>\n",
              "      <td>george s at the cove  black bean soup</td>\n",
              "      <td>90</td>\n",
              "      <td>2002-10-25</td>\n",
              "      <td>an original recipe created by chef scott meska...</td>\n",
              "      <td>18.0</td>\n",
              "    </tr>\n",
              "    <tr>\n",
              "      <th>1</th>\n",
              "      <td>67664</td>\n",
              "      <td>healthy for them  yogurt popsicles</td>\n",
              "      <td>10</td>\n",
              "      <td>2003-07-26</td>\n",
              "      <td>my children and their friends ask for my homem...</td>\n",
              "      <td>NaN</td>\n",
              "    </tr>\n",
              "    <tr>\n",
              "      <th>2</th>\n",
              "      <td>38798</td>\n",
              "      <td>i can t believe it s spinach</td>\n",
              "      <td>30</td>\n",
              "      <td>2002-08-29</td>\n",
              "      <td>these were so go, it surprised even me.</td>\n",
              "      <td>8.0</td>\n",
              "    </tr>\n",
              "    <tr>\n",
              "      <th>3</th>\n",
              "      <td>35173</td>\n",
              "      <td>italian  gut busters</td>\n",
              "      <td>45</td>\n",
              "      <td>2002-07-27</td>\n",
              "      <td>my sister-in-law made these for us at a family...</td>\n",
              "      <td>NaN</td>\n",
              "    </tr>\n",
              "    <tr>\n",
              "      <th>4</th>\n",
              "      <td>84797</td>\n",
              "      <td>love is in the air  beef fondue   sauces</td>\n",
              "      <td>25</td>\n",
              "      <td>2004-02-23</td>\n",
              "      <td>i think a fondue is a very romantic casual din...</td>\n",
              "      <td>NaN</td>\n",
              "    </tr>\n",
              "    <tr>\n",
              "      <th>...</th>\n",
              "      <td>...</td>\n",
              "      <td>...</td>\n",
              "      <td>...</td>\n",
              "      <td>...</td>\n",
              "      <td>...</td>\n",
              "      <td>...</td>\n",
              "    </tr>\n",
              "    <tr>\n",
              "      <th>29995</th>\n",
              "      <td>267661</td>\n",
              "      <td>zurie s holey rustic olive and cheddar bread</td>\n",
              "      <td>80</td>\n",
              "      <td>2007-11-25</td>\n",
              "      <td>this is based on a french recipe but i changed...</td>\n",
              "      <td>10.0</td>\n",
              "    </tr>\n",
              "    <tr>\n",
              "      <th>29996</th>\n",
              "      <td>386977</td>\n",
              "      <td>zwetschgenkuchen  bavarian plum cake</td>\n",
              "      <td>240</td>\n",
              "      <td>2009-08-24</td>\n",
              "      <td>this is a traditional fresh plum cake, thought...</td>\n",
              "      <td>11.0</td>\n",
              "    </tr>\n",
              "    <tr>\n",
              "      <th>29997</th>\n",
              "      <td>103312</td>\n",
              "      <td>zwiebelkuchen   southwest german onion cake</td>\n",
              "      <td>75</td>\n",
              "      <td>2004-11-03</td>\n",
              "      <td>this is a traditional late summer early fall s...</td>\n",
              "      <td>NaN</td>\n",
              "    </tr>\n",
              "    <tr>\n",
              "      <th>29998</th>\n",
              "      <td>486161</td>\n",
              "      <td>zydeco soup</td>\n",
              "      <td>60</td>\n",
              "      <td>2012-08-29</td>\n",
              "      <td>this is a delicious soup that i originally fou...</td>\n",
              "      <td>NaN</td>\n",
              "    </tr>\n",
              "    <tr>\n",
              "      <th>29999</th>\n",
              "      <td>298512</td>\n",
              "      <td>cookies by design   cookies on a stick</td>\n",
              "      <td>29</td>\n",
              "      <td>2008-04-15</td>\n",
              "      <td>i've heard of the 'cookies by design' company,...</td>\n",
              "      <td>10.0</td>\n",
              "    </tr>\n",
              "  </tbody>\n",
              "</table>\n",
              "<p>30000 rows × 6 columns</p>\n",
              "</div>"
            ],
            "text/plain": [
              "           id                                          name  minutes  \\\n",
              "0       44123         george s at the cove  black bean soup       90   \n",
              "1       67664            healthy for them  yogurt popsicles       10   \n",
              "2       38798                  i can t believe it s spinach       30   \n",
              "3       35173                          italian  gut busters       45   \n",
              "4       84797      love is in the air  beef fondue   sauces       25   \n",
              "...       ...                                           ...      ...   \n",
              "29995  267661  zurie s holey rustic olive and cheddar bread       80   \n",
              "29996  386977          zwetschgenkuchen  bavarian plum cake      240   \n",
              "29997  103312   zwiebelkuchen   southwest german onion cake       75   \n",
              "29998  486161                                   zydeco soup       60   \n",
              "29999  298512        cookies by design   cookies on a stick       29   \n",
              "\n",
              "        submitted                                        description  \\\n",
              "0      2002-10-25  an original recipe created by chef scott meska...   \n",
              "1      2003-07-26  my children and their friends ask for my homem...   \n",
              "2      2002-08-29            these were so go, it surprised even me.   \n",
              "3      2002-07-27  my sister-in-law made these for us at a family...   \n",
              "4      2004-02-23  i think a fondue is a very romantic casual din...   \n",
              "...           ...                                                ...   \n",
              "29995  2007-11-25  this is based on a french recipe but i changed...   \n",
              "29996  2009-08-24  this is a traditional fresh plum cake, thought...   \n",
              "29997  2004-11-03  this is a traditional late summer early fall s...   \n",
              "29998  2012-08-29  this is a delicious soup that i originally fou...   \n",
              "29999  2008-04-15  i've heard of the 'cookies by design' company,...   \n",
              "\n",
              "       n_ingredients  \n",
              "0               18.0  \n",
              "1                NaN  \n",
              "2                8.0  \n",
              "3                NaN  \n",
              "4                NaN  \n",
              "...              ...  \n",
              "29995           10.0  \n",
              "29996           11.0  \n",
              "29997            NaN  \n",
              "29998            NaN  \n",
              "29999           10.0  \n",
              "\n",
              "[30000 rows x 6 columns]"
            ]
          },
          "execution_count": 8,
          "metadata": {},
          "output_type": "execute_result"
        }
      ],
      "source": [
        "recipes"
      ]
    },
    {
      "cell_type": "markdown",
      "metadata": {
        "id": "gnwTADvqR3aC"
      },
      "source": [
        "2. Случайным образом выберите 5% строк из каждой таблицы и сохраните две таблицы на разные листы в один файл `recipes.xlsx`. Дайте листам названия \"Рецепты\" и \"Отзывы\", соответствующие содержанию таблиц. "
      ]
    },
    {
      "cell_type": "code",
      "execution_count": null,
      "metadata": {
        "id": "vdGuk2ugR3aC",
        "outputId": "84a6edbd-58bf-4ee6-8d37-40d78b0f89d9"
      },
      "outputs": [
        {
          "data": {
            "text/html": [
              "<div>\n",
              "<style scoped>\n",
              "    .dataframe tbody tr th:only-of-type {\n",
              "        vertical-align: middle;\n",
              "    }\n",
              "\n",
              "    .dataframe tbody tr th {\n",
              "        vertical-align: top;\n",
              "    }\n",
              "\n",
              "    .dataframe thead th {\n",
              "        text-align: right;\n",
              "    }\n",
              "</style>\n",
              "<table border=\"1\" class=\"dataframe\">\n",
              "  <thead>\n",
              "    <tr style=\"text-align: right;\">\n",
              "      <th></th>\n",
              "      <th>Unnamed: 0</th>\n",
              "      <th>user_id</th>\n",
              "      <th>recipe_id</th>\n",
              "      <th>date</th>\n",
              "      <th>rating</th>\n",
              "      <th>review</th>\n",
              "    </tr>\n",
              "  </thead>\n",
              "  <tbody>\n",
              "    <tr>\n",
              "      <th>17579</th>\n",
              "      <td>608849</td>\n",
              "      <td>1384367</td>\n",
              "      <td>18897</td>\n",
              "      <td>2014-06-23</td>\n",
              "      <td>5</td>\n",
              "      <td>We had bran flakes in the pantry, so that&amp;#039...</td>\n",
              "    </tr>\n",
              "    <tr>\n",
              "      <th>55908</th>\n",
              "      <td>1034944</td>\n",
              "      <td>754827</td>\n",
              "      <td>96523</td>\n",
              "      <td>2008-11-29</td>\n",
              "      <td>5</td>\n",
              "      <td>These were great for the lunch box! My girlfri...</td>\n",
              "    </tr>\n",
              "    <tr>\n",
              "      <th>101960</th>\n",
              "      <td>136796</td>\n",
              "      <td>567380</td>\n",
              "      <td>44888</td>\n",
              "      <td>2012-02-08</td>\n",
              "      <td>5</td>\n",
              "      <td>These wings were delicious.  I marinated the w...</td>\n",
              "    </tr>\n",
              "    <tr>\n",
              "      <th>108910</th>\n",
              "      <td>525566</td>\n",
              "      <td>1803588747</td>\n",
              "      <td>107281</td>\n",
              "      <td>2014-12-31</td>\n",
              "      <td>5</td>\n",
              "      <td>I love this recipe! My dad was a chef for a Me...</td>\n",
              "    </tr>\n",
              "    <tr>\n",
              "      <th>18276</th>\n",
              "      <td>726312</td>\n",
              "      <td>203072</td>\n",
              "      <td>42164</td>\n",
              "      <td>2005-03-18</td>\n",
              "      <td>5</td>\n",
              "      <td>I made this dip for a potluck at work and got ...</td>\n",
              "    </tr>\n",
              "    <tr>\n",
              "      <th>...</th>\n",
              "      <td>...</td>\n",
              "      <td>...</td>\n",
              "      <td>...</td>\n",
              "      <td>...</td>\n",
              "      <td>...</td>\n",
              "      <td>...</td>\n",
              "    </tr>\n",
              "    <tr>\n",
              "      <th>75670</th>\n",
              "      <td>434822</td>\n",
              "      <td>25941</td>\n",
              "      <td>34335</td>\n",
              "      <td>2006-01-18</td>\n",
              "      <td>5</td>\n",
              "      <td>This is a wonderful recipe.  I had a boneless ...</td>\n",
              "    </tr>\n",
              "    <tr>\n",
              "      <th>29214</th>\n",
              "      <td>489648</td>\n",
              "      <td>198601</td>\n",
              "      <td>150898</td>\n",
              "      <td>2009-02-21</td>\n",
              "      <td>0</td>\n",
              "      <td>I used nearly double the spinach, and it didn'...</td>\n",
              "    </tr>\n",
              "    <tr>\n",
              "      <th>110817</th>\n",
              "      <td>256065</td>\n",
              "      <td>102058</td>\n",
              "      <td>81286</td>\n",
              "      <td>2009-01-31</td>\n",
              "      <td>4</td>\n",
              "      <td>This went down very well, creamy and rich, eas...</td>\n",
              "    </tr>\n",
              "    <tr>\n",
              "      <th>94787</th>\n",
              "      <td>938306</td>\n",
              "      <td>430767</td>\n",
              "      <td>82102</td>\n",
              "      <td>2009-06-01</td>\n",
              "      <td>5</td>\n",
              "      <td>Yummy!  I liked the idea of using the food cho...</td>\n",
              "    </tr>\n",
              "    <tr>\n",
              "      <th>33038</th>\n",
              "      <td>104828</td>\n",
              "      <td>729861</td>\n",
              "      <td>25332</td>\n",
              "      <td>2008-02-20</td>\n",
              "      <td>5</td>\n",
              "      <td>This is a keeper. The whole family really enjo...</td>\n",
              "    </tr>\n",
              "  </tbody>\n",
              "</table>\n",
              "<p>6334 rows × 6 columns</p>\n",
              "</div>"
            ],
            "text/plain": [
              "        Unnamed: 0     user_id  recipe_id        date  rating  \\\n",
              "17579       608849     1384367      18897  2014-06-23       5   \n",
              "55908      1034944      754827      96523  2008-11-29       5   \n",
              "101960      136796      567380      44888  2012-02-08       5   \n",
              "108910      525566  1803588747     107281  2014-12-31       5   \n",
              "18276       726312      203072      42164  2005-03-18       5   \n",
              "...            ...         ...        ...         ...     ...   \n",
              "75670       434822       25941      34335  2006-01-18       5   \n",
              "29214       489648      198601     150898  2009-02-21       0   \n",
              "110817      256065      102058      81286  2009-01-31       4   \n",
              "94787       938306      430767      82102  2009-06-01       5   \n",
              "33038       104828      729861      25332  2008-02-20       5   \n",
              "\n",
              "                                                   review  \n",
              "17579   We had bran flakes in the pantry, so that&#039...  \n",
              "55908   These were great for the lunch box! My girlfri...  \n",
              "101960  These wings were delicious.  I marinated the w...  \n",
              "108910  I love this recipe! My dad was a chef for a Me...  \n",
              "18276   I made this dip for a potluck at work and got ...  \n",
              "...                                                   ...  \n",
              "75670   This is a wonderful recipe.  I had a boneless ...  \n",
              "29214   I used nearly double the spinach, and it didn'...  \n",
              "110817  This went down very well, creamy and rich, eas...  \n",
              "94787   Yummy!  I liked the idea of using the food cho...  \n",
              "33038   This is a keeper. The whole family really enjo...  \n",
              "\n",
              "[6334 rows x 6 columns]"
            ]
          },
          "execution_count": 13,
          "metadata": {},
          "output_type": "execute_result"
        }
      ],
      "source": [
        "s1 = reviews.sample(int(reviews.shape[0] * 0.05))\n",
        "s1"
      ]
    },
    {
      "cell_type": "code",
      "execution_count": null,
      "metadata": {
        "scrolled": false,
        "id": "R65xM642R3aC",
        "outputId": "53a8b5ae-3a97-4232-8d9e-80fbc512bee2"
      },
      "outputs": [
        {
          "data": {
            "text/html": [
              "<div>\n",
              "<style scoped>\n",
              "    .dataframe tbody tr th:only-of-type {\n",
              "        vertical-align: middle;\n",
              "    }\n",
              "\n",
              "    .dataframe tbody tr th {\n",
              "        vertical-align: top;\n",
              "    }\n",
              "\n",
              "    .dataframe thead th {\n",
              "        text-align: right;\n",
              "    }\n",
              "</style>\n",
              "<table border=\"1\" class=\"dataframe\">\n",
              "  <thead>\n",
              "    <tr style=\"text-align: right;\">\n",
              "      <th></th>\n",
              "      <th>id</th>\n",
              "      <th>name</th>\n",
              "      <th>minutes</th>\n",
              "      <th>submitted</th>\n",
              "      <th>description</th>\n",
              "      <th>n_ingredients</th>\n",
              "    </tr>\n",
              "  </thead>\n",
              "  <tbody>\n",
              "    <tr>\n",
              "      <th>15782</th>\n",
              "      <td>55600</td>\n",
              "      <td>leg of lamb in the crock pot</td>\n",
              "      <td>485</td>\n",
              "      <td>2003-03-04</td>\n",
              "      <td>i love lamb and was happy to have discovered t...</td>\n",
              "      <td>NaN</td>\n",
              "    </tr>\n",
              "    <tr>\n",
              "      <th>3668</th>\n",
              "      <td>62255</td>\n",
              "      <td>bread machine indian bread</td>\n",
              "      <td>190</td>\n",
              "      <td>2003-05-15</td>\n",
              "      <td>i can't remember where i got this recipe from ...</td>\n",
              "      <td>NaN</td>\n",
              "    </tr>\n",
              "    <tr>\n",
              "      <th>8218</th>\n",
              "      <td>278836</td>\n",
              "      <td>creamy chicken pizza topping</td>\n",
              "      <td>90</td>\n",
              "      <td>2008-01-14</td>\n",
              "      <td>a local pizza joint makes a creamy chicken piz...</td>\n",
              "      <td>13.0</td>\n",
              "    </tr>\n",
              "    <tr>\n",
              "      <th>21572</th>\n",
              "      <td>174003</td>\n",
              "      <td>princess chicken</td>\n",
              "      <td>45</td>\n",
              "      <td>2006-06-20</td>\n",
              "      <td>from nikibone for zaar world tour.</td>\n",
              "      <td>13.0</td>\n",
              "    </tr>\n",
              "    <tr>\n",
              "      <th>8867</th>\n",
              "      <td>503292</td>\n",
              "      <td>cuban coffee  cafecito</td>\n",
              "      <td>15</td>\n",
              "      <td>2013-07-06</td>\n",
              "      <td>no cuban meal is complete without a cafecito, ...</td>\n",
              "      <td>NaN</td>\n",
              "    </tr>\n",
              "    <tr>\n",
              "      <th>...</th>\n",
              "      <td>...</td>\n",
              "      <td>...</td>\n",
              "      <td>...</td>\n",
              "      <td>...</td>\n",
              "      <td>...</td>\n",
              "      <td>...</td>\n",
              "    </tr>\n",
              "    <tr>\n",
              "      <th>5100</th>\n",
              "      <td>246787</td>\n",
              "      <td>cheeky chocolate smoothie</td>\n",
              "      <td>7</td>\n",
              "      <td>2007-08-15</td>\n",
              "      <td>healthy low gl smoothie for those chocolate cr...</td>\n",
              "      <td>7.0</td>\n",
              "    </tr>\n",
              "    <tr>\n",
              "      <th>3017</th>\n",
              "      <td>142029</td>\n",
              "      <td>big and chewy chocolate chip cookies</td>\n",
              "      <td>10</td>\n",
              "      <td>2005-10-20</td>\n",
              "      <td>huge, soft, chewy, i just can't say anymore.  ...</td>\n",
              "      <td>9.0</td>\n",
              "    </tr>\n",
              "    <tr>\n",
              "      <th>26290</th>\n",
              "      <td>378832</td>\n",
              "      <td>summer bbq potato salad with chipotle dressing</td>\n",
              "      <td>285</td>\n",
              "      <td>2009-06-25</td>\n",
              "      <td>this potato salad is a blend of flavors italia...</td>\n",
              "      <td>15.0</td>\n",
              "    </tr>\n",
              "    <tr>\n",
              "      <th>15249</th>\n",
              "      <td>169737</td>\n",
              "      <td>kebab  koutbane</td>\n",
              "      <td>380</td>\n",
              "      <td>2006-05-25</td>\n",
              "      <td>this typically moroccan dish is an excellent h...</td>\n",
              "      <td>10.0</td>\n",
              "    </tr>\n",
              "    <tr>\n",
              "      <th>15553</th>\n",
              "      <td>491504</td>\n",
              "      <td>la style lobster rolls</td>\n",
              "      <td>30</td>\n",
              "      <td>2012-12-09</td>\n",
              "      <td>this is a variation on the lobster rolls serve...</td>\n",
              "      <td>9.0</td>\n",
              "    </tr>\n",
              "  </tbody>\n",
              "</table>\n",
              "<p>1500 rows × 6 columns</p>\n",
              "</div>"
            ],
            "text/plain": [
              "           id                                            name  minutes  \\\n",
              "15782   55600                    leg of lamb in the crock pot      485   \n",
              "3668    62255                      bread machine indian bread      190   \n",
              "8218   278836                    creamy chicken pizza topping       90   \n",
              "21572  174003                                princess chicken       45   \n",
              "8867   503292                          cuban coffee  cafecito       15   \n",
              "...       ...                                             ...      ...   \n",
              "5100   246787                       cheeky chocolate smoothie        7   \n",
              "3017   142029            big and chewy chocolate chip cookies       10   \n",
              "26290  378832  summer bbq potato salad with chipotle dressing      285   \n",
              "15249  169737                                 kebab  koutbane      380   \n",
              "15553  491504                          la style lobster rolls       30   \n",
              "\n",
              "        submitted                                        description  \\\n",
              "15782  2003-03-04  i love lamb and was happy to have discovered t...   \n",
              "3668   2003-05-15  i can't remember where i got this recipe from ...   \n",
              "8218   2008-01-14  a local pizza joint makes a creamy chicken piz...   \n",
              "21572  2006-06-20                 from nikibone for zaar world tour.   \n",
              "8867   2013-07-06  no cuban meal is complete without a cafecito, ...   \n",
              "...           ...                                                ...   \n",
              "5100   2007-08-15  healthy low gl smoothie for those chocolate cr...   \n",
              "3017   2005-10-20  huge, soft, chewy, i just can't say anymore.  ...   \n",
              "26290  2009-06-25  this potato salad is a blend of flavors italia...   \n",
              "15249  2006-05-25  this typically moroccan dish is an excellent h...   \n",
              "15553  2012-12-09  this is a variation on the lobster rolls serve...   \n",
              "\n",
              "       n_ingredients  \n",
              "15782            NaN  \n",
              "3668             NaN  \n",
              "8218            13.0  \n",
              "21572           13.0  \n",
              "8867             NaN  \n",
              "...              ...  \n",
              "5100             7.0  \n",
              "3017             9.0  \n",
              "26290           15.0  \n",
              "15249           10.0  \n",
              "15553            9.0  \n",
              "\n",
              "[1500 rows x 6 columns]"
            ]
          },
          "execution_count": 14,
          "metadata": {},
          "output_type": "execute_result"
        }
      ],
      "source": [
        "s2 = recipes.sample(int(recipes.shape[0] * 0.05))\n",
        "s2"
      ]
    },
    {
      "cell_type": "code",
      "execution_count": null,
      "metadata": {
        "id": "Ll5PF8QoR3aC"
      },
      "outputs": [],
      "source": [
        "with pd.ExcelWriter('recipes.xlsx') as writer:\n",
        "    s1.to_excel(writer, 'Отзывы')\n",
        "    s2.to_excel(writer, 'Рецепты')"
      ]
    },
    {
      "cell_type": "markdown",
      "metadata": {
        "id": "vYv60IHwR3aC"
      },
      "source": [
        "3. Используя `xlwings`, добавьте на лист `Рецепты` столбец `seconds_assign`, показывающий время выполнения рецепта в секундах. Выполните задание при помощи присваивания массива значений диапазону ячеек."
      ]
    },
    {
      "cell_type": "code",
      "execution_count": null,
      "metadata": {
        "id": "j1uySVYbR3aC"
      },
      "outputs": [],
      "source": [
        "wb = xw.Book('recipes.xlsx')\n",
        "sht = wb.sheets['Рецепты']\n",
        "sht.range('H1').value = 'seconds_assign'\n",
        "sht.range('H2').options(transpose = True).value = [i * 60 for i in s2['minutes']]"
      ]
    },
    {
      "cell_type": "markdown",
      "metadata": {
        "id": "oiYy3CSsR3aC"
      },
      "source": [
        "4. Используя `xlwings`, добавьте на лист `Рецепты` столбец `seconds_formula`, показывающий время выполнения рецепта в секундах. Выполните задание при помощи формул Excel."
      ]
    },
    {
      "cell_type": "code",
      "execution_count": null,
      "metadata": {
        "id": "tt8v-0_RR3aD"
      },
      "outputs": [],
      "source": [
        "sht.range('I1').value = 'seconds_formula'\n",
        "fml = sht.range('I2').formula = '=D2*60'\n",
        "sht.range('I2:I1501').formula = fml"
      ]
    },
    {
      "cell_type": "markdown",
      "metadata": {
        "id": "mH2C_I5OR3aD"
      },
      "source": [
        "5. Сделайте названия всех добавленных столбцов полужирными и выровняйте по центру ячейки."
      ]
    },
    {
      "cell_type": "code",
      "execution_count": null,
      "metadata": {
        "id": "9r_zGX9ER3aD"
      },
      "outputs": [],
      "source": [
        "sht.range('H1:I1').font.bold = True\n",
        "sht.range('H1:I1').api.HorizontalAlignment = xw.constants.HAlign.xlHAlignCenter"
      ]
    },
    {
      "cell_type": "markdown",
      "metadata": {
        "id": "ZunsPsbcR3aD"
      },
      "source": [
        "6. Раскрасьте ячейки столбца `minutes` в соответствии со следующим правилом: если рецепт выполняется быстрее 5 минут, то цвет - зеленый; от 5 до 10 минут - жёлтый; и больше 10 - красный."
      ]
    },
    {
      "cell_type": "code",
      "execution_count": null,
      "metadata": {
        "id": "4vc0UtOyR3aD"
      },
      "outputs": [],
      "source": [
        "for i in range(2, 1502):\n",
        "    if sht.range(f'D{i}').value < 5:\n",
        "        sht.range(f'D{i}').color = (0, 128, 0)\n",
        "    elif 5 <= sht.range(f'D{i}').value <= 10:\n",
        "        sht.range(f'D{i}').color = (255, 255, 0)\n",
        "    else:\n",
        "        sht.range(f'D{i}').color = (255, 0, 0)"
      ]
    },
    {
      "cell_type": "markdown",
      "metadata": {
        "id": "gjROp_MpR3aD"
      },
      "source": [
        "7. Добавьте на лист `Рецепты`  столбец `n_reviews`, содержащий кол-во отзывов для этого рецепта. Выполните задание при помощи формул Excel."
      ]
    },
    {
      "cell_type": "code",
      "execution_count": null,
      "metadata": {
        "id": "oeq8BUaER3aD"
      },
      "outputs": [],
      "source": [
        "sht.range('J1').value = 'n_reviews'\n",
        "fml = sht.range('J2').formula = '=COUNTIF(Отзывы!D1:D6335, B2)'\n",
        "sht.range('J2:J1501').formula = fml"
      ]
    },
    {
      "cell_type": "markdown",
      "metadata": {
        "id": "V5TgNw4dR3aD"
      },
      "source": [
        "## Лабораторная работа 7.2"
      ]
    },
    {
      "cell_type": "markdown",
      "metadata": {
        "id": "aimC3oPGR3aE"
      },
      "source": [
        "8. Напишите функцию `validate()`, которая проверяет соответствие всех строк из листа `Отзывы` следующим правилам:\n",
        "    * Рейтинг - это число от 0 до 5 включительно\n",
        "    * Соответствующий рецепт имеется на листе `Рецепты`\n",
        "    \n",
        "В случае несоответствия этим правилам, выделите строку красным цветом"
      ]
    },
    {
      "cell_type": "code",
      "execution_count": null,
      "metadata": {
        "id": "kgcUPOoDR3aE"
      },
      "outputs": [],
      "source": [
        "def validate():\n",
        "    wb = xw.Book('recipes.xlsx')\n",
        "    sht = wb.sheets['Отзывы']\n",
        "    for i in range(2, 6336):\n",
        "        if sht.range(f'F{i}').value < 0 or sht.range(f'F{i}').value > 5 or sht.range(f'D{i}').value not in wb.sheets['Рецепты'].range('B2:B1501').value:\n",
        "            sht.range(f'A{i}:Z{i}').color = (255, 0, 0)\n",
        "validate()"
      ]
    },
    {
      "cell_type": "markdown",
      "metadata": {
        "id": "c8xHH8b1R3aE"
      },
      "source": [
        "9. В файле `recipes_model.csv` находится модель данных предметной области \"рецепты\". При помощи пакета `csv` считайте эти данные. При помощи пакета `xlwings` запишите данные на лист `Модель` книги `recipes_model.xlsx`, начиная с ячейки `A2`, не используя циклы. Сделайте скриншот текущего состояния листа и прикрепите в ячейку ноутбука. "
      ]
    },
    {
      "cell_type": "code",
      "execution_count": null,
      "metadata": {
        "id": "Y6eSRsifR3aE"
      },
      "outputs": [],
      "source": [
        "with open('recipes_model.csv') as file:\n",
        "    reader = csv.reader(file, delimiter = '\\t')\n",
        "    wb = xw.Book('recipes_model.xlsx')\n",
        "    sht = wb.sheets['Модель']\n",
        "    sht.range('A2').value = list(reader)"
      ]
    },
    {
      "cell_type": "markdown",
      "metadata": {
        "id": "Ly0HKTK8R3aE"
      },
      "source": [
        "10. При помощи пакета `xlwings` добавьте в столбец J формулу для описания столбца на языке SQL. Формула должна реализовывать следующую логику:\n",
        "\n",
        "    1\\. в начале строки идут значения из столбцов В и C (значение столбца С приведено к верхнему регистру), разделенные пробелом\n",
        "    \n",
        "    2\\. далее идут слова на основе столбца \"Ключ\"\n",
        "        2.1 если в столбце \"Ключ\" указано значение \"PK\", то дальше через пробел идет ключевое слово \"PRIMARY KEY\"\n",
        "        2.2 если в столбце \"Ключ\" указано значение \"FK\", то дальше через пробел идет ключевое слово \"REFERENCES\", затем значения столбцов H и I в формате \"название_таблицы(название_столбца)\"\n",
        "        \n",
        "    3\\. если в столбце \"Обязательно к заполнению\" указано значение \"Y\" и в столбце \"Ключ\" указано не \"PK\", то дальше через пробел идет ключевое слово \"NOT NULL\".\n",
        "\n",
        "Заполните этой формулой необходимое количество строк, используя \"протягивание\". Количество строк для протягивания определите на основе данных.\n",
        "\n",
        "Сделайте скриншот текущего состояния листа и прикрепите в ячейку ноутбука."
      ]
    },
    {
      "cell_type": "code",
      "execution_count": null,
      "metadata": {
        "id": "dbfFz45QR3aE"
      },
      "outputs": [],
      "source": [
        "n = sht.range('A2').current_region.last_cell.row - 1\n",
        "for x in range(2, n + 2):\n",
        "    b = sht.range(f'B{x}').value\n",
        "    c = sht.range(f'C{x}').value.upper()\n",
        "    h = sht.range(f'H{x}').value\n",
        "    i = sht.range(f'I{x}').value\n",
        "    j = f'{b} {c}'\n",
        "    key = sht.range(f'F{x}').value\n",
        "    if key == 'PK':\n",
        "        j += ' PRIMARY KEY'\n",
        "    elif key == 'FK':\n",
        "        j += f' REFERENCES {h}({i})'\n",
        "    req = sht.range(f'D{x}').value\n",
        "    if req == 'Y' and key != 'PK':\n",
        "        j += ' NOT NULL'\n",
        "    sht.range(f'J{x}').value = j    \n",
        "wb.save('recipes_model.xlsx')\n",
        "wb.close()"
      ]
    },
    {
      "cell_type": "markdown",
      "metadata": {
        "id": "CE_lYqJ-R3aF"
      },
      "source": [
        "11. При помощи пакета `xlwings` измените стилизацию листа `Модель`.\n",
        "* для заголовков добавьте заливку цвета `00ccff`\n",
        "* примените автоподбор ширины столбца;\n",
        "* сделайте шрифт заголовков полужирным;\n",
        "* добавьте таблице автофильтр.\n",
        "\n",
        "Сделайте скриншот текущего состояния листа и прикрепите в ячейку ноутбука."
      ]
    },
    {
      "cell_type": "code",
      "execution_count": null,
      "metadata": {
        "id": "ozwHqNHgR3aF"
      },
      "outputs": [],
      "source": [
        "wb = xw.Book('recipes_model1.xlsx')\n",
        "sht = wb.sheets['Модель']\n",
        "sht.range('A2:J2').color = (0, 204, 255)\n",
        "sht.autofit('c')\n",
        "sht.range('A2:J2').api.Font.Bold = True\n",
        "sht.range('A2:J2').api.AutoFilter()"
      ]
    },
    {
      "cell_type": "markdown",
      "metadata": {
        "id": "J2CRj-xrR3aF"
      },
      "source": [
        "12. Посчитайте количество атрибутов для каждой из сущностей. Создайте лист `Статистика` и запишите в него результат группировки, начиная с ячейки \"А1\". Визуализируйте полученный результат при помощи столбчатой диаграммы. Сохраните полученную визуализацию на лист `Статистика`, начиная с ячейки \"E2\".  Сделайте скриншот листа `Статистика` и прикрепите в ячейку ноутбука.\n",
        "\n",
        "* Вы можете воспользоваться методами для визуализации, которые поставляются вместе с объектами `pandas` (см. https://pandas.pydata.org/docs/reference/api/pandas.DataFrame.plot) "
      ]
    },
    {
      "cell_type": "code",
      "execution_count": null,
      "metadata": {
        "id": "zMXE95UlR3aF"
      },
      "outputs": [],
      "source": [
        "wb.sheets.add('Cтатистика')\n",
        "sht = wb.sheets['Статистика']\n",
        "model = sht['A1:B18'].value\n",
        "m_t = pd.DataFrame(model[1:], columns = model [0])\n",
        "gr = m_t.groupby('Сущность').count()\n",
        "sht['A1'].value = gr\n",
        "figure = gr.plot.bar().get_figure()"
      ]
    }
  ],
  "metadata": {
    "kernelspec": {
      "display_name": "Python 3 (ipykernel)",
      "language": "python",
      "name": "python3"
    },
    "language_info": {
      "codemirror_mode": {
        "name": "ipython",
        "version": 3
      },
      "file_extension": ".py",
      "mimetype": "text/x-python",
      "name": "python",
      "nbconvert_exporter": "python",
      "pygments_lexer": "ipython3",
      "version": "3.9.12"
    },
    "colab": {
      "provenance": []
    }
  },
  "nbformat": 4,
  "nbformat_minor": 0
}