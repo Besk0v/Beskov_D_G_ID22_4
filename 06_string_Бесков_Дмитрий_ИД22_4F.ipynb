{
  "cells": [
    {
      "cell_type": "markdown",
      "metadata": {
        "id": "qNd3G13kTXjJ"
      },
      "source": [
        "# Работа со строковыми значениями"
      ]
    },
    {
      "cell_type": "markdown",
      "metadata": {
        "id": "RoNlw0QTTXjK"
      },
      "source": [
        "## Задачи для совместного разбора"
      ]
    },
    {
      "cell_type": "markdown",
      "metadata": {
        "id": "dp_vyuVrTXjK"
      },
      "source": [
        "1. Вывести на экран данные из словаря `obj` построчно в виде `k = v`, задав формат таким образом, чтобы знак равенства оказался на одной и той же позиции во всех строках. Строковые литералы обернуть в кавычки."
      ]
    },
    {
      "cell_type": "code",
      "execution_count": null,
      "metadata": {
        "id": "dfWKe-hVTXjK",
        "outputId": "9df55c98-3ce5-41be-88c6-ce0879ad0c77"
      },
      "outputs": [
        {
          "name": "stdout",
          "output_type": "stream",
          "text": [
            "home_page  = \"https://github.com/pypa/sampleproject\"\n",
            "keywords   = \"sample setuptools development\"\n",
            "license    = \"MIT\"\n"
          ]
        }
      ],
      "source": [
        "obj = {\n",
        "    \"home_page\": \"https://github.com/pypa/sampleproject\",\n",
        "    \"keywords\": \"sample setuptools development\",\n",
        "    \"license\": \"MIT\",\n",
        "}\n",
        "for k, v in obj.items():\n",
        "    print(f'{k:10} = \"{v}\"')"
      ]
    },
    {
      "cell_type": "markdown",
      "metadata": {
        "id": "F2yYuDd4TXjL"
      },
      "source": [
        "2. Написать регулярное выражение,которое позволит найти номера групп студентов."
      ]
    },
    {
      "cell_type": "code",
      "execution_count": null,
      "metadata": {
        "id": "1zzKtILGTXjL"
      },
      "outputs": [],
      "source": [
        "import re\n",
        "import pandas as pd"
      ]
    },
    {
      "cell_type": "code",
      "execution_count": null,
      "metadata": {
        "id": "-40THhKWTXjM",
        "outputId": "777d3913-95a5-479c-9bb9-790de8afb46b"
      },
      "outputs": [
        {
          "name": "stdout",
          "output_type": "stream",
          "text": [
            "ПМ19-1\n",
            "пм 20-4\n",
            " 20-3\n"
          ]
        }
      ],
      "source": [
        "obj = pd.Series([\"Евгения гр.ПМ19-1\", \"Илья пм 20-4\", \"Анна 20-3\"])\n",
        "ans = re.compile(r'\\b[а-яА-Я]{0,2}\\s?\\d{2}-\\d')\n",
        "for i in obj:\n",
        "    print(*ans.findall(i))"
      ]
    },
    {
      "cell_type": "markdown",
      "metadata": {
        "id": "nHQAtIbQTXjM"
      },
      "source": [
        "3. Разбейте текст формулировки задачи 2 на слова."
      ]
    },
    {
      "cell_type": "code",
      "execution_count": null,
      "metadata": {
        "id": "HhylpshSTXjM",
        "outputId": "af2f5b0f-44cb-4a8c-8819-5daa144c2d7e"
      },
      "outputs": [
        {
          "data": {
            "text/plain": [
              "['Написать',\n",
              " 'регулярное',\n",
              " 'выражение',\n",
              " 'которое',\n",
              " 'позволит',\n",
              " 'найти',\n",
              " 'номера',\n",
              " 'групп',\n",
              " 'студентов']"
            ]
          },
          "execution_count": 5,
          "metadata": {},
          "output_type": "execute_result"
        }
      ],
      "source": [
        "text = 'Написать регулярное выражение,которое позволит найти номера групп студентов.'\n",
        "text = re.findall('[a-zа-яё]+', text, flags=re.IGNORECASE)\n",
        "text"
      ]
    },
    {
      "cell_type": "markdown",
      "metadata": {
        "id": "6YJfN3nzTXjM"
      },
      "source": [
        "## Лабораторная работа 6"
      ]
    },
    {
      "cell_type": "code",
      "execution_count": null,
      "metadata": {
        "id": "9a7WC0n_TXjM"
      },
      "outputs": [],
      "source": [
        "import pandas as pd\n",
        "import requests\n",
        "from bs4 import BeautifulSoup\n",
        "import re\n",
        "import nltk"
      ]
    },
    {
      "cell_type": "markdown",
      "metadata": {
        "id": "1K9RiCPxTXjM"
      },
      "source": [
        "### Форматирование строк"
      ]
    },
    {
      "cell_type": "markdown",
      "metadata": {
        "id": "dRhz4-qwTXjM"
      },
      "source": [
        "1\\. Загрузите данные из файла `recipes_sample.csv` (__ЛР2__) в виде `pd.DataFrame` `recipes` При помощи форматирования строк выведите информацию об id рецепта и времени выполнения 5 случайных рецептов в виде таблицы следующего вида:\n",
        "\n",
        "    \n",
        "    |      id      |  minutes  |\n",
        "    |--------------------------|\n",
        "    |    61178     |    65     |\n",
        "    |    202352    |    80     |\n",
        "    |    364322    |    150    |\n",
        "    |    26177     |    20     |\n",
        "    |    224785    |    35     |\n",
        "    \n",
        "Обратите внимание, что ширина столбцов заранее неизвестна и должна рассчитываться динамически, в зависимости от тех данных, которые были выбраны. "
      ]
    },
    {
      "cell_type": "code",
      "execution_count": null,
      "metadata": {
        "id": "zy6YawEGTXjN",
        "outputId": "e84728b3-16fb-4b7f-f179-f2bd583ad1b5"
      },
      "outputs": [
        {
          "name": "stdout",
          "output_type": "stream",
          "text": [
            "|      id      |  minutes  |\n",
            "|--------------------------|\n",
            "|    59462     |    25     |\n",
            "|    423199    |    45     |\n",
            "|    121279    |    10     |\n",
            "|    279421    |    20     |\n",
            "|    48651     |    35     |\n"
          ]
        }
      ],
      "source": [
        "recipes = pd.read_csv('recipes_sample.csv')\n",
        "\n",
        "data = recipes[['id', 'minutes']].sample(5)\n",
        "res = len(max([str(i['id']) for x, i in data.iterrows()], key = len)) + 8\n",
        "print(f'|{\"id\":^{res}}|{\"minutes\":^11}|\\n|{\"-\" * (res + 12)}|')\n",
        "for i, j in data.iterrows():\n",
        "    print(f'|{j[\"id\"]:^14}|{j[\"minutes\"]:^11}|')"
      ]
    },
    {
      "cell_type": "markdown",
      "metadata": {
        "id": "O8NCbw9mTXjN"
      },
      "source": [
        "2\\. Напишите функцию `show_info`, которая по данным о рецепте создает строку (в смысле объекта python) с описанием следующего вида:\n",
        "\n",
        "```\n",
        "\"Название Из Нескольких Слов\"\n",
        "\n",
        "1. Шаг 1\n",
        "2. Шаг 2\n",
        "----------\n",
        "Автор: contributor_id\n",
        "Среднее время приготовления: minutes минут\n",
        "```\n",
        "\n",
        "    \n",
        "Данные для создания строки получите из файлов `recipes_sample.csv` (__ЛР2__) и `steps_sample.xml` (__ЛР3__). \n",
        "Вызовите данную функцию для рецепта с id `170895` и выведите (через `print`) полученную строку на экран."
      ]
    },
    {
      "cell_type": "code",
      "execution_count": null,
      "metadata": {
        "id": "WuRYzDFHTXjN"
      },
      "outputs": [],
      "source": [
        "from bs4 import BeautifulSoup"
      ]
    },
    {
      "cell_type": "code",
      "execution_count": null,
      "metadata": {
        "id": "K2ih0SMKTXjN",
        "outputId": "83aeb9e3-9a50-4702-aee5-d355fff4f29f"
      },
      "outputs": [
        {
          "name": "stdout",
          "output_type": "stream",
          "text": [
            "\"Leeks And Parsnips  Sauteed Or Creamed\"\n",
            "\n",
            "1. Clean the leeks and discard the dark green portions\n",
            "2. Cut the leeks lengthwise then into one-inch pieces\n",
            "3. Melt the butter in a medium skillet , med\n",
            "4. Heat\n",
            "5. Add the garlic and fry 'til fragrant\n",
            "6. Add leeks and fry until the leeks are tender , about 6-minutes\n",
            "7. Meanwhile , peel and chunk the parsnips into one-inch pieces\n",
            "8. Place in a steaming basket and steam 'til they are as tender as you prefer\n",
            "9. I like them fork-tender\n",
            "10. Drain parsnips and add to the skillet with the leeks\n",
            "11. Add salt and pepper\n",
            "12. Gently sautee together for 5-minutes\n",
            "13. At this point you can serve it , or continue on and cream it:\n",
            "14. In a jar with a screw top , add the half-n-half and arrowroot\n",
            "15. Shake 'til blended\n",
            "16. Turn heat to low under the leeks and parsnips\n",
            "17. Pour in the arrowroot mixture , stirring gently as you pour\n",
            "18. If too thick , gradually add the water\n",
            "19. Let simmer for a couple of minutes\n",
            "20. Taste to adjust seasoning , probably an additional 1 / 2 teaspoon salt\n",
            "21. Serve warm\n",
            "----------\n",
            "Автор: 8377\n",
            "Среднее время приготовления: 27 минут\n"
          ]
        }
      ],
      "source": [
        "with open('steps_sample.xml') as f:\n",
        "    steps_sample = BeautifulSoup(f, 'xml')\n",
        "def show_info(id_r):\n",
        "    ans = ''\n",
        "    ans += f'\"{recipes[recipes[\"id\"] == id_r].iloc[0][\"name\"].title()}\"\\n\\n'\n",
        "    for i in steps_sample.find_all('recipe'):\n",
        "        if int(i.find('id').get_text()) == id_r:\n",
        "            k = 1\n",
        "            for j in i.find_all('step'):\n",
        "                ans += f'{k}. {j.get_text().capitalize()}\\n'\n",
        "                k += 1\n",
        "    ans += f'----------\\nАвтор: {recipes[recipes[\"id\"] == id_r].iloc[0][\"contributor_id\"]}\\nСреднее время приготовления: {recipes[recipes[\"id\"] == id_r].iloc[0][\"minutes\"]} минут'\n",
        "    return ans\n",
        "print(show_info(170895))"
      ]
    },
    {
      "cell_type": "markdown",
      "metadata": {
        "id": "PQYvqBKuTXjN"
      },
      "source": [
        "## Работа с регулярными выражениями"
      ]
    },
    {
      "cell_type": "markdown",
      "metadata": {
        "id": "Bd5e0Xx2TXjN"
      },
      "source": [
        "3\\. Напишите регулярное выражение, которое ищет следующий паттерн в строке: число (1 цифра или более), затем пробел, затем слова: hour или hours или minute или minutes. Произведите поиск по данному регулярному выражению в каждом шаге рецепта с id 25082. Выведите на экран все непустые результаты, найденные по данному шаблону."
      ]
    },
    {
      "cell_type": "code",
      "execution_count": null,
      "metadata": {
        "id": "MWLowfoMTXjO",
        "outputId": "cb1c8059-f0b8-4697-a222-b91db4baa107"
      },
      "outputs": [
        {
          "name": "stdout",
          "output_type": "stream",
          "text": [
            "['20 minute']\n",
            "['10 minute']\n",
            "['2 hour']\n",
            "['10 minute']\n",
            "['20 minute', '30 minute']\n"
          ]
        }
      ],
      "source": [
        "times = re.compile(r'\\d+\\s(?:hour|hours|minute|minutes)')\n",
        "for i in steps_sample.find_all('recipe'):\n",
        "    if int(i.find('id').get_text()) == 25082:\n",
        "        for j in i.find_all('step'):\n",
        "            ans = times.findall(j.get_text())\n",
        "            if ans:\n",
        "                print(ans)"
      ]
    },
    {
      "cell_type": "markdown",
      "metadata": {
        "id": "wK6pvDb_TXjO"
      },
      "source": [
        "4\\. Напишите регулярное выражение, которое ищет шаблон вида \"this..., but\" _в начале строки_ . Между словом \"this\" и частью \", but\" может находиться произвольное число букв, цифр, знаков подчеркивания и пробелов. Никаких других символов вместо многоточия быть не может. Пробел между запятой и словом \"but\" может присутствовать или отсутствовать.\n",
        "\n",
        "Используя строковые методы `pd.Series`, выясните, для каких рецептов данный шаблон содержится в тексте описания. Выведите на экран количество таких рецептов и 3 примера подходящих описаний (текст описания должен быть виден на экране полностью)."
      ]
    },
    {
      "cell_type": "code",
      "execution_count": null,
      "metadata": {
        "id": "y7IlNqwATXjO",
        "outputId": "5614a594-ae5b-4de0-c1a0-d98e89c6248a"
      },
      "outputs": [
        {
          "name": "stdout",
          "output_type": "stream",
          "text": [
            "this is a great meal eaten the same day ,but\n",
            "this was adapted from a recipe i found on the net, but\n",
            "this is kind of similar to some of the other versions out there, but\n",
            "Количество подходящих рецептов: 132\n"
          ]
        }
      ],
      "source": [
        "reg = re.compile(r'^this[\\w\\s]*,\\s?but\\b')\n",
        "d = 0\n",
        "ans = []\n",
        "for i, j in recipes.iterrows():\n",
        "    ans = reg.findall(str(j['description']))\n",
        "    if ans:\n",
        "        d += 1\n",
        "        if d <= 3:\n",
        "            print(*ans)\n",
        "print(f'Количество подходящих рецептов: {d}')"
      ]
    },
    {
      "cell_type": "markdown",
      "metadata": {
        "id": "kdtQpVtHTXjO"
      },
      "source": [
        "5\\. В текстах шагов рецептов обыкновенные дроби имеют вид \"a / b\". Используя регулярные выражения, уберите в тексте шагов рецепта с id 72367 пробелы до и после символа дроби. Выведите на экран шаги этого рецепта после их изменения."
      ]
    },
    {
      "cell_type": "code",
      "execution_count": null,
      "metadata": {
        "id": "7RX00sueTXjO",
        "outputId": "7266a8ca-c6e0-460c-851d-616f0479ae49"
      },
      "outputs": [
        {
          "name": "stdout",
          "output_type": "stream",
          "text": [
            "Шаг 1. mix butter , flour , 1/3 c\n",
            "Шаг 2. sugar and 1-1/4 t\n",
            "Шаг 3. vanilla\n",
            "Шаг 4. press into greased 9\" springform pan\n",
            "Шаг 5. mix cream cheese , 1/4 c\n",
            "Шаг 6. sugar , eggs and 1/2 t\n",
            "Шаг 7. vanilla beating until fluffy\n",
            "Шаг 8. pour over dough\n",
            "Шаг 9. combine apples , 1/3 c\n",
            "Шаг 10. sugar and cinnamon\n",
            "Шаг 11. arrange on top of cream cheese mixture and sprinkle with almonds\n",
            "Шаг 12. bake at 350 for 45-55 minutes , or until tester comes out clean\n"
          ]
        }
      ],
      "source": [
        "d = 1\n",
        "for i in steps_sample.find_all('recipe'):\n",
        "    if int(i.find('id').get_text()) == 72367:\n",
        "        for j in i.find_all('step'):\n",
        "            ans = re.sub(r'(\\d+)\\s/\\s(\\d+)', r'\\1/\\2', j.get_text())\n",
        "            print(f'Шаг {d}. {ans}')\n",
        "            d += 1"
      ]
    },
    {
      "cell_type": "markdown",
      "metadata": {
        "id": "ECe8NLnyTXjO"
      },
      "source": [
        "### Сегментация текста"
      ]
    },
    {
      "cell_type": "markdown",
      "metadata": {
        "id": "xBF1ttR0TXjP"
      },
      "source": [
        "6\\. Разбейте тексты шагов рецептов на слова при помощи пакета `nltk`. Посчитайте и выведите на экран кол-во уникальных слов среди всех рецептов. Словом называется любая последовательность алфавитных символов (для проверки можно воспользоваться `str.isalpha`). При подсчете количества уникальных слов не учитывайте регистр."
      ]
    },
    {
      "cell_type": "code",
      "execution_count": null,
      "metadata": {
        "id": "9KeSmdhxTXjP"
      },
      "outputs": [],
      "source": [
        "import nltk\n",
        "from nltk.tokenize import word_tokenize\n",
        "from nltk.tokenize import sent_tokenize"
      ]
    },
    {
      "cell_type": "code",
      "execution_count": null,
      "metadata": {
        "id": "QGvX4roHTXjP",
        "outputId": "5d1ab5ec-15f9-41d9-c6e9-ff8e877cd2d1"
      },
      "outputs": [
        {
          "name": "stdout",
          "output_type": "stream",
          "text": [
            "Количество уникальных слов: 14926\n"
          ]
        }
      ],
      "source": [
        "words = []\n",
        "for i in steps_sample.find_all('recipe'):  \n",
        "    for j in i.find_all('step'):\n",
        "        words.extend([x.lower() for x in word_tokenize(j.get_text()) if x.isalpha()])\n",
        "words = set(words)\n",
        "print(f'Количество уникальных слов: {len(words)}') "
      ]
    },
    {
      "cell_type": "markdown",
      "metadata": {
        "id": "eth6y2qwTXjP"
      },
      "source": [
        "7\\. Разбейте описания рецептов из `recipes` на предложения при помощи пакета `nltk`. Найдите 5 самых длинных описаний (по количеству _предложений_) рецептов в датасете и выведите строки фрейма, соответствующие этим рецептами, в порядке убывания длины."
      ]
    },
    {
      "cell_type": "code",
      "execution_count": null,
      "metadata": {
        "id": "pXEzmDcbTXjP"
      },
      "outputs": [],
      "source": [
        "import pandas as pd"
      ]
    },
    {
      "cell_type": "code",
      "execution_count": null,
      "metadata": {
        "id": "Za0D0C0qTXjP",
        "outputId": "b8e4b3bf-7891-4d3c-f794-8f92f01f3ce4"
      },
      "outputs": [
        {
          "data": {
            "text/html": [
              "<div>\n",
              "<style scoped>\n",
              "    .dataframe tbody tr th:only-of-type {\n",
              "        vertical-align: middle;\n",
              "    }\n",
              "\n",
              "    .dataframe tbody tr th {\n",
              "        vertical-align: top;\n",
              "    }\n",
              "\n",
              "    .dataframe thead th {\n",
              "        text-align: right;\n",
              "    }\n",
              "</style>\n",
              "<table border=\"1\" class=\"dataframe\">\n",
              "  <thead>\n",
              "    <tr style=\"text-align: right;\">\n",
              "      <th></th>\n",
              "      <th>name</th>\n",
              "      <th>id</th>\n",
              "      <th>minutes</th>\n",
              "      <th>contributor_id</th>\n",
              "      <th>submitted</th>\n",
              "      <th>n_steps</th>\n",
              "      <th>description</th>\n",
              "      <th>n_ingredients</th>\n",
              "      <th>sentences</th>\n",
              "    </tr>\n",
              "  </thead>\n",
              "  <tbody>\n",
              "    <tr>\n",
              "      <th>18408</th>\n",
              "      <td>my favorite buttercream icing for decorating</td>\n",
              "      <td>334113</td>\n",
              "      <td>30</td>\n",
              "      <td>681465</td>\n",
              "      <td>2008-10-30</td>\n",
              "      <td>12.0</td>\n",
              "      <td>this wonderful icing is used for icing cakes a...</td>\n",
              "      <td>NaN</td>\n",
              "      <td>76</td>\n",
              "    </tr>\n",
              "    <tr>\n",
              "      <th>481</th>\n",
              "      <td>alligator claws  avocado fritters  with chipot...</td>\n",
              "      <td>287008</td>\n",
              "      <td>45</td>\n",
              "      <td>765354</td>\n",
              "      <td>2008-02-19</td>\n",
              "      <td>NaN</td>\n",
              "      <td>a translucent golden-brown crust allows the gr...</td>\n",
              "      <td>9.0</td>\n",
              "      <td>27</td>\n",
              "    </tr>\n",
              "    <tr>\n",
              "      <th>22566</th>\n",
              "      <td>rich barley mushroom soup</td>\n",
              "      <td>328708</td>\n",
              "      <td>60</td>\n",
              "      <td>221776</td>\n",
              "      <td>2008-10-03</td>\n",
              "      <td>NaN</td>\n",
              "      <td>this is one of the best soups i've ever made a...</td>\n",
              "      <td>10.0</td>\n",
              "      <td>24</td>\n",
              "    </tr>\n",
              "    <tr>\n",
              "      <th>6779</th>\n",
              "      <td>chocolate tea</td>\n",
              "      <td>205348</td>\n",
              "      <td>6</td>\n",
              "      <td>428824</td>\n",
              "      <td>2007-01-14</td>\n",
              "      <td>NaN</td>\n",
              "      <td>i wrote this because there are an astounding l...</td>\n",
              "      <td>NaN</td>\n",
              "      <td>23</td>\n",
              "    </tr>\n",
              "    <tr>\n",
              "      <th>16296</th>\n",
              "      <td>little bunny foo foo cake  carrot cake  with c...</td>\n",
              "      <td>316000</td>\n",
              "      <td>68</td>\n",
              "      <td>689540</td>\n",
              "      <td>2008-07-27</td>\n",
              "      <td>14.0</td>\n",
              "      <td>the first time i made this cake i grated a mil...</td>\n",
              "      <td>NaN</td>\n",
              "      <td>23</td>\n",
              "    </tr>\n",
              "  </tbody>\n",
              "</table>\n",
              "</div>"
            ],
            "text/plain": [
              "                                                    name      id  minutes  \\\n",
              "18408       my favorite buttercream icing for decorating  334113       30   \n",
              "481    alligator claws  avocado fritters  with chipot...  287008       45   \n",
              "22566                          rich barley mushroom soup  328708       60   \n",
              "6779                                       chocolate tea  205348        6   \n",
              "16296  little bunny foo foo cake  carrot cake  with c...  316000       68   \n",
              "\n",
              "       contributor_id   submitted  n_steps  \\\n",
              "18408          681465  2008-10-30     12.0   \n",
              "481            765354  2008-02-19      NaN   \n",
              "22566          221776  2008-10-03      NaN   \n",
              "6779           428824  2007-01-14      NaN   \n",
              "16296          689540  2008-07-27     14.0   \n",
              "\n",
              "                                             description  n_ingredients  \\\n",
              "18408  this wonderful icing is used for icing cakes a...            NaN   \n",
              "481    a translucent golden-brown crust allows the gr...            9.0   \n",
              "22566  this is one of the best soups i've ever made a...           10.0   \n",
              "6779   i wrote this because there are an astounding l...            NaN   \n",
              "16296  the first time i made this cake i grated a mil...            NaN   \n",
              "\n",
              "       sentences  \n",
              "18408         76  \n",
              "481           27  \n",
              "22566         24  \n",
              "6779          23  \n",
              "16296         23  "
            ]
          },
          "execution_count": 51,
          "metadata": {},
          "output_type": "execute_result"
        }
      ],
      "source": [
        "recipes['sentences'] = recipes['description'].apply(lambda x: len(nltk.sent_tokenize(str(x))))\n",
        "top5 = recipes.sort_values('sentences', ascending=False).head(5)\n",
        "pd.DataFrame(top5)"
      ]
    },
    {
      "cell_type": "markdown",
      "metadata": {
        "id": "UHoWY7zQTXjP"
      },
      "source": [
        "8\\. Напишите функцию, которая для заданного предложения выводит информацию о частях речи слов, входящих в предложение, в следующем виде:\n",
        "```\n",
        "PRP   VBD   DT      NNS     CC   VBD      NNS        RB   \n",
        " I  omitted the raspberries and added strawberries instead\n",
        "``` \n",
        "Для определения части речи слова можно воспользоваться `nltk.pos_tag`.\n",
        "\n",
        "Проверьте работоспособность функции на названии рецепта с id 241106.\n",
        "\n",
        "Обратите внимание, что часть речи должна находиться ровно посередине над соотвествующим словом, а между самими словами должен быть ровно один пробел.\n"
      ]
    },
    {
      "cell_type": "code",
      "execution_count": null,
      "metadata": {
        "id": "0wRZuE7ITXjP",
        "outputId": "64ade847-2d40-4514-af10-2bcbe872f9b0"
      },
      "outputs": [
        {
          "name": "stdout",
          "output_type": "stream",
          "text": [
            "   JJ     NNS    IN     NNS    VBP    JJ   CC   JJ    NNS   \n",
            "eggplant steaks with chickpeas feta cheese and black olives \n"
          ]
        }
      ],
      "source": [
        "str_res = recipes[recipes['id'] == 241106].iloc[0]['name']\n",
        "words_list = [i for i in word_tokenize(str_res) if i.isalpha()]\n",
        "parts_of_words = nltk.pos_tag([i for i in word_tokenize(str_res) if i.isalpha()])\n",
        "w,p = '' , ''\n",
        "for i in parts_of_words:\n",
        "    if len(i[0]) >= len(i[1]):\n",
        "        p += f'{i[1]:^{len(i[0])}} '\n",
        "        w += f'{i[0]} '\n",
        "    else:\n",
        "        p += f'{i[1]}'\n",
        "        w += f'{i[0]:^{len(i[1])}}'\n",
        "print(f'{p}\\n{w}')"
      ]
    },
    {
      "cell_type": "code",
      "execution_count": null,
      "metadata": {
        "id": "HZYAapTXTXjQ"
      },
      "outputs": [],
      "source": []
    }
  ],
  "metadata": {
    "kernelspec": {
      "display_name": "Python 3",
      "language": "python",
      "name": "python3"
    },
    "language_info": {
      "codemirror_mode": {
        "name": "ipython",
        "version": 3
      },
      "file_extension": ".py",
      "mimetype": "text/x-python",
      "name": "python",
      "nbconvert_exporter": "python",
      "pygments_lexer": "ipython3",
      "version": "3.8.10"
    },
    "colab": {
      "provenance": []
    }
  },
  "nbformat": 4,
  "nbformat_minor": 0
}